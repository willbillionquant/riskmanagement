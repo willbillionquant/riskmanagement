{
 "cells": [
  {
   "cell_type": "markdown",
   "metadata": {},
   "source": [
    "## Modules"
   ]
  },
  {
   "cell_type": "code",
   "execution_count": 1,
   "metadata": {},
   "outputs": [],
   "source": [
    "import os\n",
    "import sys\n",
    "sys.path.append('..')\n",
    "\n",
    "import numpy as np\n",
    "import pandas as pd\n",
    "import matplotlib.pyplot as plt\n",
    " \n",
    "from datetime import datetime, timedelta\n",
    "from itertools import product"
   ]
  },
  {
   "cell_type": "markdown",
   "metadata": {},
   "source": [
    "## Binary outcome & simulation: Arithmetic betting & risk-of-ruin"
   ]
  },
  {
   "cell_type": "markdown",
   "metadata": {},
   "source": [
    "### Binary game simulation function"
   ]
  },
  {
   "cell_type": "code",
   "execution_count": 2,
   "metadata": {},
   "outputs": [],
   "source": [
    "def getSim_binaryFixAmount(initAmount=100, a=12.5, p=0.5, b=1.5, numTrials=50, numSim=400):\n",
    "    \"\"\"\n",
    "    Obtain dictionary of equal-amount-bet simulation results.\n",
    "    initAmount: initial amount for betting\n",
    "    f: percent per bet\n",
    "    p: winning probability\n",
    "    b: reward-to-risk ratio (/ odds)\n",
    "    numTrialss: number of trials of the same binary game\n",
    "    numSim: number of binary simulations\n",
    "    \"\"\"\n",
    "    # Dict for recording different series of profit/loss\n",
    "    simDict = {}\n",
    "    # Dict for recording different series of capital (total equity)\n",
    "    amountDict = {}\n",
    "    # Generate a total of `numSim`= N series of binary game result and P/L\n",
    "    stepFunc = lambda x: 1 if x > 0 else 0  # Lambda Function for getting \"1\" with a fixed prob and \"0\" otherwise\n",
    "    for num in range(numSim):\n",
    "        # Generate a series of \"1\"/\"0\" with probability p\n",
    "        signArray = np.array([stepFunc(r) for r in np.random.uniform(p - 1, p, numTrials)])\n",
    "        # Series of asset increment on win/loss result (EITHER increase by a * b OR decrease by a)\n",
    "        trialArray = a * ((b + 1) * signArray - 1)\n",
    "        # Record the asset increment series into `simDict`\n",
    "        simDict[num + 1] = trialArray\n",
    "        # Array of total equity and record into `amountDict`\n",
    "        amountArray = initAmount + trialArray.cumsum()\n",
    "        # IF equity drops below the fixed bet amount, stop betting\n",
    "        period = 1\n",
    "        while period <= numTrials - 1:\n",
    "            if amountArray[period] < a:\n",
    "                for j in range(period, numTrials):\n",
    "                    amountArray[j] = amountArray[period]\n",
    "                amountDict[f's{num}'] = amountArray\n",
    "                break\n",
    "            period += 1\n",
    "        amountDict[f's{num + 1}'] = amountArray\n",
    "    # Form dataframe from the `amountDict` and transpose, so that each row corresponds to a betting series\n",
    "    dfSim = pd.DataFrame(amountDict).transpose()\n",
    "    # Rename columns so that each number in column labels corresponds to the k-th trial\n",
    "    dfSim = dfSim.rename(columns={k: (k + 1) for k in dfSim.columns})\n",
    "\n",
    "    return dfSim"
   ]
  },
  {
   "cell_type": "markdown",
   "metadata": {},
   "source": [
    "### Performance KPIs: winning rate, RRR (Realized reward-risk ratio), profit factor"
   ]
  },
  {
   "cell_type": "code",
   "execution_count": 3,
   "metadata": {},
   "outputs": [],
   "source": [
    "def getProfitfactor(p, b):\n",
    "    \"\"\"Get profit factor of a binary game.\"\"\"\n",
    "    return round(p * b / (1 - p), 4)\n",
    "\n",
    "def getOdds(p, pf):\n",
    "    \"\"\"Given fixed winning rate and profit factor, find odds (or reward-risk ratio).\"\"\"\n",
    "    return pf * (1 - p) / p\n",
    "\n",
    "def getWinrate(b, pf):\n",
    "    \"\"\"Given fixed odds and profit factor, find winning rate.\"\"\"   \n",
    "    return pf / (pf + b)"
   ]
  },
  {
   "cell_type": "markdown",
   "metadata": {},
   "source": [
    "### Sample simulation: 20 trials, 30 simulations, converted into dataframe"
   ]
  },
  {
   "cell_type": "code",
   "execution_count": 4,
   "metadata": {},
   "outputs": [
    {
     "name": "stdout",
     "output_type": "stream",
     "text": [
      "Profit Factor = 1.25\n"
     ]
    },
    {
     "data": {
      "text/html": [
       "<div>\n",
       "<style scoped>\n",
       "    .dataframe tbody tr th:only-of-type {\n",
       "        vertical-align: middle;\n",
       "    }\n",
       "\n",
       "    .dataframe tbody tr th {\n",
       "        vertical-align: top;\n",
       "    }\n",
       "\n",
       "    .dataframe thead th {\n",
       "        text-align: right;\n",
       "    }\n",
       "</style>\n",
       "<table border=\"1\" class=\"dataframe\">\n",
       "  <thead>\n",
       "    <tr style=\"text-align: right;\">\n",
       "      <th></th>\n",
       "      <th>1</th>\n",
       "      <th>2</th>\n",
       "      <th>3</th>\n",
       "      <th>4</th>\n",
       "      <th>5</th>\n",
       "      <th>6</th>\n",
       "      <th>7</th>\n",
       "      <th>8</th>\n",
       "      <th>9</th>\n",
       "      <th>10</th>\n",
       "    </tr>\n",
       "  </thead>\n",
       "  <tbody>\n",
       "    <tr>\n",
       "      <th>s1</th>\n",
       "      <td>125.0</td>\n",
       "      <td>150.0</td>\n",
       "      <td>130.0</td>\n",
       "      <td>155.0</td>\n",
       "      <td>180.0</td>\n",
       "      <td>160.0</td>\n",
       "      <td>185.0</td>\n",
       "      <td>210.0</td>\n",
       "      <td>190.0</td>\n",
       "      <td>215.0</td>\n",
       "    </tr>\n",
       "    <tr>\n",
       "      <th>s2</th>\n",
       "      <td>125.0</td>\n",
       "      <td>150.0</td>\n",
       "      <td>130.0</td>\n",
       "      <td>110.0</td>\n",
       "      <td>90.0</td>\n",
       "      <td>115.0</td>\n",
       "      <td>140.0</td>\n",
       "      <td>120.0</td>\n",
       "      <td>145.0</td>\n",
       "      <td>170.0</td>\n",
       "    </tr>\n",
       "    <tr>\n",
       "      <th>s3</th>\n",
       "      <td>80.0</td>\n",
       "      <td>60.0</td>\n",
       "      <td>85.0</td>\n",
       "      <td>110.0</td>\n",
       "      <td>135.0</td>\n",
       "      <td>115.0</td>\n",
       "      <td>95.0</td>\n",
       "      <td>120.0</td>\n",
       "      <td>100.0</td>\n",
       "      <td>125.0</td>\n",
       "    </tr>\n",
       "    <tr>\n",
       "      <th>s4</th>\n",
       "      <td>80.0</td>\n",
       "      <td>60.0</td>\n",
       "      <td>40.0</td>\n",
       "      <td>65.0</td>\n",
       "      <td>90.0</td>\n",
       "      <td>70.0</td>\n",
       "      <td>50.0</td>\n",
       "      <td>75.0</td>\n",
       "      <td>100.0</td>\n",
       "      <td>125.0</td>\n",
       "    </tr>\n",
       "    <tr>\n",
       "      <th>s5</th>\n",
       "      <td>80.0</td>\n",
       "      <td>105.0</td>\n",
       "      <td>130.0</td>\n",
       "      <td>155.0</td>\n",
       "      <td>180.0</td>\n",
       "      <td>160.0</td>\n",
       "      <td>140.0</td>\n",
       "      <td>165.0</td>\n",
       "      <td>190.0</td>\n",
       "      <td>170.0</td>\n",
       "    </tr>\n",
       "    <tr>\n",
       "      <th>s6</th>\n",
       "      <td>125.0</td>\n",
       "      <td>150.0</td>\n",
       "      <td>130.0</td>\n",
       "      <td>155.0</td>\n",
       "      <td>135.0</td>\n",
       "      <td>115.0</td>\n",
       "      <td>95.0</td>\n",
       "      <td>75.0</td>\n",
       "      <td>100.0</td>\n",
       "      <td>80.0</td>\n",
       "    </tr>\n",
       "    <tr>\n",
       "      <th>s7</th>\n",
       "      <td>80.0</td>\n",
       "      <td>105.0</td>\n",
       "      <td>130.0</td>\n",
       "      <td>110.0</td>\n",
       "      <td>135.0</td>\n",
       "      <td>115.0</td>\n",
       "      <td>140.0</td>\n",
       "      <td>120.0</td>\n",
       "      <td>100.0</td>\n",
       "      <td>80.0</td>\n",
       "    </tr>\n",
       "    <tr>\n",
       "      <th>s8</th>\n",
       "      <td>80.0</td>\n",
       "      <td>60.0</td>\n",
       "      <td>85.0</td>\n",
       "      <td>110.0</td>\n",
       "      <td>135.0</td>\n",
       "      <td>115.0</td>\n",
       "      <td>95.0</td>\n",
       "      <td>75.0</td>\n",
       "      <td>100.0</td>\n",
       "      <td>125.0</td>\n",
       "    </tr>\n",
       "    <tr>\n",
       "      <th>s9</th>\n",
       "      <td>125.0</td>\n",
       "      <td>150.0</td>\n",
       "      <td>130.0</td>\n",
       "      <td>110.0</td>\n",
       "      <td>90.0</td>\n",
       "      <td>70.0</td>\n",
       "      <td>95.0</td>\n",
       "      <td>75.0</td>\n",
       "      <td>100.0</td>\n",
       "      <td>125.0</td>\n",
       "    </tr>\n",
       "    <tr>\n",
       "      <th>s10</th>\n",
       "      <td>125.0</td>\n",
       "      <td>150.0</td>\n",
       "      <td>175.0</td>\n",
       "      <td>155.0</td>\n",
       "      <td>135.0</td>\n",
       "      <td>115.0</td>\n",
       "      <td>140.0</td>\n",
       "      <td>165.0</td>\n",
       "      <td>190.0</td>\n",
       "      <td>215.0</td>\n",
       "    </tr>\n",
       "    <tr>\n",
       "      <th>s11</th>\n",
       "      <td>125.0</td>\n",
       "      <td>105.0</td>\n",
       "      <td>85.0</td>\n",
       "      <td>65.0</td>\n",
       "      <td>90.0</td>\n",
       "      <td>70.0</td>\n",
       "      <td>50.0</td>\n",
       "      <td>30.0</td>\n",
       "      <td>10.0</td>\n",
       "      <td>10.0</td>\n",
       "    </tr>\n",
       "    <tr>\n",
       "      <th>s12</th>\n",
       "      <td>125.0</td>\n",
       "      <td>105.0</td>\n",
       "      <td>85.0</td>\n",
       "      <td>65.0</td>\n",
       "      <td>90.0</td>\n",
       "      <td>70.0</td>\n",
       "      <td>50.0</td>\n",
       "      <td>30.0</td>\n",
       "      <td>10.0</td>\n",
       "      <td>10.0</td>\n",
       "    </tr>\n",
       "    <tr>\n",
       "      <th>s13</th>\n",
       "      <td>80.0</td>\n",
       "      <td>60.0</td>\n",
       "      <td>85.0</td>\n",
       "      <td>110.0</td>\n",
       "      <td>90.0</td>\n",
       "      <td>115.0</td>\n",
       "      <td>140.0</td>\n",
       "      <td>120.0</td>\n",
       "      <td>100.0</td>\n",
       "      <td>80.0</td>\n",
       "    </tr>\n",
       "    <tr>\n",
       "      <th>s14</th>\n",
       "      <td>125.0</td>\n",
       "      <td>150.0</td>\n",
       "      <td>175.0</td>\n",
       "      <td>200.0</td>\n",
       "      <td>180.0</td>\n",
       "      <td>160.0</td>\n",
       "      <td>185.0</td>\n",
       "      <td>165.0</td>\n",
       "      <td>145.0</td>\n",
       "      <td>170.0</td>\n",
       "    </tr>\n",
       "    <tr>\n",
       "      <th>s15</th>\n",
       "      <td>80.0</td>\n",
       "      <td>60.0</td>\n",
       "      <td>40.0</td>\n",
       "      <td>65.0</td>\n",
       "      <td>45.0</td>\n",
       "      <td>70.0</td>\n",
       "      <td>50.0</td>\n",
       "      <td>30.0</td>\n",
       "      <td>55.0</td>\n",
       "      <td>80.0</td>\n",
       "    </tr>\n",
       "    <tr>\n",
       "      <th>s16</th>\n",
       "      <td>80.0</td>\n",
       "      <td>105.0</td>\n",
       "      <td>85.0</td>\n",
       "      <td>65.0</td>\n",
       "      <td>90.0</td>\n",
       "      <td>115.0</td>\n",
       "      <td>140.0</td>\n",
       "      <td>120.0</td>\n",
       "      <td>100.0</td>\n",
       "      <td>125.0</td>\n",
       "    </tr>\n",
       "    <tr>\n",
       "      <th>s17</th>\n",
       "      <td>125.0</td>\n",
       "      <td>150.0</td>\n",
       "      <td>130.0</td>\n",
       "      <td>110.0</td>\n",
       "      <td>135.0</td>\n",
       "      <td>160.0</td>\n",
       "      <td>185.0</td>\n",
       "      <td>165.0</td>\n",
       "      <td>145.0</td>\n",
       "      <td>125.0</td>\n",
       "    </tr>\n",
       "    <tr>\n",
       "      <th>s18</th>\n",
       "      <td>125.0</td>\n",
       "      <td>105.0</td>\n",
       "      <td>130.0</td>\n",
       "      <td>155.0</td>\n",
       "      <td>135.0</td>\n",
       "      <td>115.0</td>\n",
       "      <td>140.0</td>\n",
       "      <td>165.0</td>\n",
       "      <td>145.0</td>\n",
       "      <td>125.0</td>\n",
       "    </tr>\n",
       "    <tr>\n",
       "      <th>s19</th>\n",
       "      <td>125.0</td>\n",
       "      <td>150.0</td>\n",
       "      <td>175.0</td>\n",
       "      <td>155.0</td>\n",
       "      <td>135.0</td>\n",
       "      <td>115.0</td>\n",
       "      <td>95.0</td>\n",
       "      <td>120.0</td>\n",
       "      <td>100.0</td>\n",
       "      <td>80.0</td>\n",
       "    </tr>\n",
       "    <tr>\n",
       "      <th>s20</th>\n",
       "      <td>80.0</td>\n",
       "      <td>60.0</td>\n",
       "      <td>85.0</td>\n",
       "      <td>110.0</td>\n",
       "      <td>135.0</td>\n",
       "      <td>115.0</td>\n",
       "      <td>95.0</td>\n",
       "      <td>120.0</td>\n",
       "      <td>145.0</td>\n",
       "      <td>170.0</td>\n",
       "    </tr>\n",
       "  </tbody>\n",
       "</table>\n",
       "</div>"
      ],
      "text/plain": [
       "        1      2      3      4      5      6      7      8      9      10\n",
       "s1   125.0  150.0  130.0  155.0  180.0  160.0  185.0  210.0  190.0  215.0\n",
       "s2   125.0  150.0  130.0  110.0   90.0  115.0  140.0  120.0  145.0  170.0\n",
       "s3    80.0   60.0   85.0  110.0  135.0  115.0   95.0  120.0  100.0  125.0\n",
       "s4    80.0   60.0   40.0   65.0   90.0   70.0   50.0   75.0  100.0  125.0\n",
       "s5    80.0  105.0  130.0  155.0  180.0  160.0  140.0  165.0  190.0  170.0\n",
       "s6   125.0  150.0  130.0  155.0  135.0  115.0   95.0   75.0  100.0   80.0\n",
       "s7    80.0  105.0  130.0  110.0  135.0  115.0  140.0  120.0  100.0   80.0\n",
       "s8    80.0   60.0   85.0  110.0  135.0  115.0   95.0   75.0  100.0  125.0\n",
       "s9   125.0  150.0  130.0  110.0   90.0   70.0   95.0   75.0  100.0  125.0\n",
       "s10  125.0  150.0  175.0  155.0  135.0  115.0  140.0  165.0  190.0  215.0\n",
       "s11  125.0  105.0   85.0   65.0   90.0   70.0   50.0   30.0   10.0   10.0\n",
       "s12  125.0  105.0   85.0   65.0   90.0   70.0   50.0   30.0   10.0   10.0\n",
       "s13   80.0   60.0   85.0  110.0   90.0  115.0  140.0  120.0  100.0   80.0\n",
       "s14  125.0  150.0  175.0  200.0  180.0  160.0  185.0  165.0  145.0  170.0\n",
       "s15   80.0   60.0   40.0   65.0   45.0   70.0   50.0   30.0   55.0   80.0\n",
       "s16   80.0  105.0   85.0   65.0   90.0  115.0  140.0  120.0  100.0  125.0\n",
       "s17  125.0  150.0  130.0  110.0  135.0  160.0  185.0  165.0  145.0  125.0\n",
       "s18  125.0  105.0  130.0  155.0  135.0  115.0  140.0  165.0  145.0  125.0\n",
       "s19  125.0  150.0  175.0  155.0  135.0  115.0   95.0  120.0  100.0   80.0\n",
       "s20   80.0   60.0   85.0  110.0  135.0  115.0   95.0  120.0  145.0  170.0"
      ]
     },
     "execution_count": 4,
     "metadata": {},
     "output_type": "execute_result"
    }
   ],
   "source": [
    "initAmount0 = 100  # Initial capital\n",
    "a0 = 20  # Fixed amount per bet\n",
    "p0 = 0.5   # winning probability\n",
    "b0 = 1.25   # reward-risk ratio / odds\n",
    "numTrials0 = 10 # Number of trials\n",
    "numSim0 = 20  # Number of simulations (how many people keep playing same game for 10 runs)\n",
    "\n",
    "pf0 = round(getProfitfactor(p0, b0), 4)\n",
    "print(f'Profit Factor = {pf0}')\n",
    "\n",
    "dfSim0 = np.round(getSim_binaryFixAmount(initAmount0, a0, p0, b0, numTrials0, numSim0), 2)\n",
    "dfSim0"
   ]
  },
  {
   "cell_type": "markdown",
   "metadata": {},
   "source": [
    "## Equity curve plotting"
   ]
  },
  {
   "cell_type": "markdown",
   "metadata": {},
   "source": [
    "### Functions for simulation KPI & curve plotting"
   ]
  },
  {
   "cell_type": "code",
   "execution_count": 21,
   "metadata": {},
   "outputs": [],
   "source": [
    "def getSimKPI_discretePL(simFunc, initAmount=100, f=12.5, p=0.5, b=1.5, numTrials=50, numSim=400):\n",
    "    \"\"\"Obtain a dictionary of final performance KPI of simulations. \"\"\"\n",
    "    dfSim = simFunc(initAmount, f, p, b, numTrials, numSim)\n",
    "    dictKPI = {}\n",
    "    dictKPI['p'] = p\n",
    "    dictKPI['b'] = b\n",
    "    dictKPI['f'] = f\n",
    "    dictKPI['profitfactor'] = round(getProfitfactor(p, b), 4)\n",
    "    dictKPI['win%'] = round(100 * dfSim[dfSim[numTrials] >= initAmount].shape[0] / numSim, 2)\n",
    "    dictKPI['avgAmount'] = round(dfSim[numTrials].mean(), 2)\n",
    "    dictKPI['midAmount'] = round(dfSim[numTrials].median(), 2)\n",
    "    dictKPI['stdAmount'] = round(dfSim[numTrials].std(), 2)\n",
    "\n",
    "    return dfSim, dictKPI\n",
    "\n",
    "def plotSim_discretePL(simFunc, initAmount=100, f=12.5, p=0.5, b=1.5, numTrials=50, numSim=400, semilog=True):\n",
    "    \"\"\"Plot equity curves from the betting simulations.\"\"\"\n",
    "    # Dataframe and KPI dict from `getSimKPI_discretePL()` function\n",
    "    dfSim, dictKPI = getSimKPI_discretePL(simFunc, initAmount, f, p, b, numTrials, numSim)\n",
    "    # First line of diagram title\n",
    "    title = f'{numSim} simulations of {numTrials}-step binary game \\n'\n",
    "    if semilog:\n",
    "        title += f'Winning rate {round(p, 4)}, odds {round(b, 4)}, {f}% per bet \\n'\n",
    "    else:\n",
    "        title += f'Winning rate {round(p, 4)}, odds {round(b, 4)}, ${f} per bet \\n'\n",
    "\n",
    "    # Percentage of final equity above or equal to initial amount\n",
    "    winrate = dictKPI['win%']\n",
    "    avgAmount = dictKPI['avgAmount']  # Arithmetic mean of final equity\n",
    "    midAmount = dictKPI['midAmount']  # Median of final equity\n",
    "    stdAmount = dictKPI['stdAmount']  # SD of final equity\n",
    "    profitfactor = dictKPI['profitfactor']\n",
    "\n",
    "    # Attach key stats to title text\n",
    "    title += f'Profit factor: {profitfactor}, final winrate: {winrate}% \\n'\n",
    "    title += f'Final equity mean: {avgAmount}, median: {midAmount}, SD: {stdAmount}'\n",
    "\n",
    "    # Plot figure & append title\n",
    "    fig = plt.figure(figsize=(12, 9))\n",
    "    fig.suptitle(title, fontsize=12)\n",
    "\n",
    "    # Transpose the equity dataframe to plot\n",
    "    dfPlot = dfSim.transpose()\n",
    "\n",
    "    # Adopt semi-log scale for fixed-percent-betting & linear scale for fixed-amount-betting\n",
    "    if semilog:\n",
    "        plt.semilogy(dfPlot)\n",
    "    plt.plot(dfPlot.index, np.repeat(initAmount, numTrials), color='black', linewidth=3, linestyle='dashed')\n",
    "    plt.show()"
   ]
  },
  {
   "cell_type": "markdown",
   "metadata": {},
   "source": [
    "### Standard sample: p = 0.4, b = 2.0"
   ]
  },
  {
   "cell_type": "code",
   "execution_count": 6,
   "metadata": {},
   "outputs": [
    {
     "data": {
      "text/plain": [
       "{'p': 0.4,\n",
       " 'b': 2.0,\n",
       " 'f': 10,\n",
       " 'profitfactor': 1.3333,\n",
       " 'win%': 74.0,\n",
       " 'avgAmount': 176.19,\n",
       " 'midAmount': 200.0,\n",
       " 'stdAmount': 116.57}"
      ]
     },
     "execution_count": 6,
     "metadata": {},
     "output_type": "execute_result"
    }
   ],
   "source": [
    "initAmount1 = 100  \n",
    "a1 = 10  \n",
    "p1 = 0.4   \n",
    "b1 = 2.0   \n",
    "numTrials1 = 50 \n",
    "numSim1 = 1000  \n",
    "\n",
    "dfSim1, dictKPI1 = getSimKPI_discretePL(getSim_binaryFixAmount, initAmount1, a1, p1, b1, numTrials1, numSim1)\n",
    "dictKPI1"
   ]
  },
  {
   "cell_type": "markdown",
   "metadata": {},
   "source": [
    "### Curves of 1000 simulations of 50 trials"
   ]
  },
  {
   "cell_type": "code",
   "execution_count": 22,
   "metadata": {},
   "outputs": [
    {
     "name": "stdout",
     "output_type": "stream",
     "text": [
      "<class 'pandas.core.frame.DataFrame'>\n",
      "Int64Index: 50 entries, 1 to 50\n",
      "Columns: 1000 entries, s1 to s1000\n",
      "dtypes: float64(1000)\n",
      "memory usage: 393.5 KB\n",
      "None\n"
     ]
    },
    {
     "data": {
      "image/png": "[encoded data removed]",
      "text/plain": [
       "<Figure size 864x648 with 1 Axes>"
      ]
     },
     "metadata": {
      "needs_background": "light"
     },
     "output_type": "display_data"
    }
   ],
   "source": [
    "plotSim_discretePL(getSim_binaryFixAmount, initAmount1, a1, p1, b1, False, numTrials1, numSim1)"
   ]
  },
  {
   "cell_type": "code",
   "execution_count": null,
   "metadata": {},
   "outputs": [],
   "source": []
  },
  {
   "cell_type": "code",
   "execution_count": null,
   "metadata": {},
   "outputs": [],
   "source": []
  },
  {
   "cell_type": "code",
   "execution_count": null,
   "metadata": {},
   "outputs": [],
   "source": []
  },
  {
   "cell_type": "markdown",
   "metadata": {},
   "source": [
    "### Risk-of-ruin and 100 trials, 1000 simulations in sample case"
   ]
  },
  {
   "cell_type": "code",
   "execution_count": null,
   "metadata": {},
   "outputs": [],
   "source": [
    "numtrials = 100\n",
    "numsim = 1000\n",
    "p = 0.5   # winning probability\n",
    "b = 1.25   # reward-risk ratio / odds\n",
    "perbet = 10\n",
    "\n",
    "simdict1, amtdict1 = getsimarr(base, perbet, p=p, b=b, numtrials=numtrials, numsim=numsim)\n",
    "dfbet1 = pd.DataFrame(amtdict1).transpose()\n",
    "\n",
    "ruin = dfbet1[dfbet1[numtrials - 1] <= perbet].shape[0] / dfbet1.shape[0]\n",
    "print(f\"Risk of ruin with unit bet {perbet}, p=0.5, b={b}, {numtrials} bets: {ruin}\")"
   ]
  },
  {
   "cell_type": "markdown",
   "metadata": {},
   "source": [
    "### Final performance KPI of 1000 simulations of a binary game "
   ]
  },
  {
   "cell_type": "code",
   "execution_count": null,
   "metadata": {},
   "outputs": [],
   "source": [
    "def getsimkpi(base, perbet, p, b, numtrials, numsim):\n",
    "    \"\"\"Obtain a dictionary of final performance KPI of simulations. \"\"\"\n",
    "    simdict, amtdict = getsimarr(base, perbet, p, b, numtrials, numsim)\n",
    "    dfbet = pd.DataFrame(amtdict).transpose()\n",
    "    kpidict = dict()\n",
    "    kpidict['ruin'] = round(dfbet[dfbet[numtrials - 1] <= perbet].shape[0] / dfbet.shape[0], 4)\n",
    "    kpidict['win%'] = round(dfbet[dfbet[numtrials - 1] > base].shape[0] / dfbet.shape[0], 4)\n",
    "    kpidict['P/Lavg'] = round(dfbet[numtrials - 1].mean() - base, 4)\n",
    "    kpidict['P/Lstd'] = round(dfbet[numtrials - 1].std(), 4) \n",
    "    \n",
    "    return dfbet, kpidict"
   ]
  },
  {
   "cell_type": "code",
   "execution_count": null,
   "metadata": {},
   "outputs": [],
   "source": [
    "dfbettest, kpidicttest = getsimkpi(100, 20, 0.5, 1.25, 104, 1000)\n",
    "kpidicttest"
   ]
  },
  {
   "cell_type": "code",
   "execution_count": null,
   "metadata": {},
   "outputs": [],
   "source": [
    "dfbettest, kpidicttest = getsimkpi(100, 10, 0.56, 1.44, 104, 1000)\n",
    "kpidicttest"
   ]
  },
  {
   "cell_type": "markdown",
   "metadata": {},
   "source": [
    "## Fixed p = 0.5, 104 bets (2 year), 1000 sims, varied perbet amount and odds"
   ]
  },
  {
   "cell_type": "markdown",
   "metadata": {},
   "source": [
    "### Simulations"
   ]
  },
  {
   "cell_type": "code",
   "execution_count": null,
   "metadata": {},
   "outputs": [],
   "source": [
    "oddslist = [0.25 * r for r in range(2, 13)]\n",
    "amtlist = [25, 20, 12.5, 10, 8, 5, 4, 3, 2, 1]\n",
    "dollist = [f'${amt}' for amt in amtlist]\n",
    "base = 100\n",
    "p = 0.5\n",
    "numtrials = 104\n",
    "numsim = 1000\n",
    "\n",
    "betdict = dict()\n",
    "dfruin1 = pd.DataFrame(columns=oddslist, index=dollist)  # Risk of ruin\n",
    "dfplus1 = pd.DataFrame(columns=oddslist, index=dollist)  # Terminal winning probability\n",
    "dfamtavg1 = pd.DataFrame(columns=oddslist, index=dollist) # Average final P/L\n",
    "dfamtstd1 = pd.DataFrame(columns=oddslist, index=dollist) # SD of final P/L\n",
    "for odds, amt in product(oddslist, amtlist):\n",
    "    dfbet, kpidict = getsimkpi(base, amt, p, odds, numtrials, numsim)\n",
    "    betdict[(p, odds, amt)] = dfbet\n",
    "    dfruin1.loc[f'${amt}', odds] = kpidict['ruin']\n",
    "    dfplus1.loc[f'${amt}', odds] = kpidict['win%']\n",
    "    dfamtavg1.loc[f'${amt}', odds] = kpidict['P/Lavg']\n",
    "    dfamtstd1.loc[f'${amt}', odds] = kpidict['P/Lstd'] "
   ]
  },
  {
   "cell_type": "markdown",
   "metadata": {},
   "source": [
    "### Equity Curve plots: Profit factor 1.5, 10 per bet"
   ]
  },
  {
   "cell_type": "code",
   "execution_count": null,
   "metadata": {},
   "outputs": [],
   "source": [
    "fig = plt.figure(figsize=(12, 9))\n",
    "spec = (0.5, 1.25, 10)\n",
    "\n",
    "fig.suptitle(f'1000 Simulations with prob {spec[0]}, odds {spec[1]}, ${spec[2]} per bet')\n",
    "plt.plot(betdict[spec].transpose())\n",
    "plt.show()"
   ]
  },
  {
   "cell_type": "code",
   "execution_count": null,
   "metadata": {},
   "outputs": [],
   "source": [
    "fig = plt.figure(figsize=(12, 9))\n",
    "spec = (0.5, 2.0, 10)\n",
    "\n",
    "fig.suptitle(f'1000 Simulations with prob {spec[0]}, odds {spec[1]}, ${spec[2]} per bet')\n",
    "plt.plot(betdict[spec].transpose())\n",
    "plt.show()"
   ]
  },
  {
   "cell_type": "markdown",
   "metadata": {},
   "source": [
    "### Equity Curve plots: Profit factor 0.75, 10 per bet"
   ]
  },
  {
   "cell_type": "code",
   "execution_count": null,
   "metadata": {},
   "outputs": [],
   "source": [
    "fig = plt.figure(figsize=(12, 9))\n",
    "spec = (0.5, 0.75, 10)\n",
    "\n",
    "fig.suptitle(f'1000 Simulations with prob {spec[0]}, odds {spec[1]}, ${spec[2]} per bet')\n",
    "plt.plot(betdict[spec].transpose())\n",
    "plt.show()"
   ]
  },
  {
   "cell_type": "markdown",
   "metadata": {},
   "source": [
    "### Risk-of-ruin"
   ]
  },
  {
   "cell_type": "code",
   "execution_count": null,
   "metadata": {},
   "outputs": [],
   "source": [
    "dfruin1"
   ]
  },
  {
   "cell_type": "code",
   "execution_count": null,
   "metadata": {},
   "outputs": [],
   "source": [
    "dfruin1[(dfruin1 <= 0.01) & (dfamtavg1 > 0)]"
   ]
  },
  {
   "cell_type": "markdown",
   "metadata": {},
   "source": [
    "### Probability of terminal winning "
   ]
  },
  {
   "cell_type": "code",
   "execution_count": null,
   "metadata": {},
   "outputs": [],
   "source": [
    "dfplus1"
   ]
  },
  {
   "cell_type": "code",
   "execution_count": null,
   "metadata": {},
   "outputs": [],
   "source": [
    "dfplus1[(dfruin1 <= 0.01) & (dfamtavg1 > 0)]"
   ]
  },
  {
   "cell_type": "markdown",
   "metadata": {},
   "source": [
    "### Average Terminal P/L"
   ]
  },
  {
   "cell_type": "code",
   "execution_count": null,
   "metadata": {},
   "outputs": [],
   "source": [
    "dfamtavg1[(dfruin1 <= 0.01) & (dfamtavg1 > 0)]"
   ]
  },
  {
   "cell_type": "markdown",
   "metadata": {},
   "source": [
    "### SD of  Terminal P/L (positive skew due to extreme winners)"
   ]
  },
  {
   "cell_type": "code",
   "execution_count": null,
   "metadata": {},
   "outputs": [],
   "source": [
    "dfamtstd1"
   ]
  },
  {
   "cell_type": "markdown",
   "metadata": {},
   "source": [
    "## Fixed odds = 1, 104 bets (2 year), 1000 sims, varied perbet amount and odds"
   ]
  },
  {
   "cell_type": "markdown",
   "metadata": {},
   "source": [
    "### Simulations"
   ]
  },
  {
   "cell_type": "code",
   "execution_count": null,
   "metadata": {},
   "outputs": [],
   "source": [
    "base = 100\n",
    "odds = 1\n",
    "problist = [pf / (pf + odds) for pf in np.arange(0.5, 3.25, 0.25)]\n",
    "probcollist = [f'{round(100 * prob, 1)}%' for prob in problist]\n",
    "amtlist = [25, 20, 12.5, 10, 8, 5, 4, 3, 2, 1]\n",
    "dollist = [f'${amt}' for amt in amtlist]\n",
    "numtrials = 104\n",
    "numsim = 1000\n",
    "\n",
    "dfruin2 = pd.DataFrame(columns=probcollist, index=dollist)  # Risk of ruin\n",
    "dfplus2 = pd.DataFrame(columns=probcollist, index=dollist)  # Terminal winning probability\n",
    "dfamtavg2 = pd.DataFrame(columns=probcollist, index=dollist) # Average final P/L\n",
    "dfamtstd2 = pd.DataFrame(columns=probcollist, index=dollist) # SD of final P/L\n",
    "\n",
    "for p, amt in product(problist, amtlist):\n",
    "    prob = round(100 * p, 1)\n",
    "    dfbet, kpidict = getsimkpi(base, amt, p, odds, numtrials, numsim)\n",
    "    betdict[(p, odds, amt)] = dfbet\n",
    "    dfruin2.loc[f'${amt}', f'{prob}%'] = kpidict['ruin']\n",
    "    dfplus2.loc[f'${amt}', f'{prob}%'] = kpidict['win%']\n",
    "    dfamtavg2.loc[f'${amt}', f'{prob}%'] = kpidict['P/Lavg']\n",
    "    dfamtstd2.loc[f'${amt}', f'{prob}%'] = kpidict['P/Lstd']\n"
   ]
  },
  {
   "cell_type": "markdown",
   "metadata": {},
   "source": [
    "### Equity curve Plots (profit factor 2.0, 10 per bet)"
   ]
  },
  {
   "cell_type": "code",
   "execution_count": null,
   "metadata": {},
   "outputs": [],
   "source": [
    "fig = plt.figure(figsize=(12, 9))\n",
    "spec = (0.6, 1, 10)\n",
    "\n",
    "fig.suptitle(f'1000 Simulations with prob {spec[0]}, odds {spec[1]}, ${spec[2]} per bet')\n",
    "plt.plot(betdict[spec].transpose())\n",
    "plt.show()"
   ]
  },
  {
   "cell_type": "markdown",
   "metadata": {},
   "source": [
    "### Risk-of-ruin"
   ]
  },
  {
   "cell_type": "code",
   "execution_count": null,
   "metadata": {},
   "outputs": [],
   "source": [
    "dfruin2"
   ]
  },
  {
   "cell_type": "code",
   "execution_count": null,
   "metadata": {},
   "outputs": [],
   "source": [
    "dfruin2[(dfruin2 < 0.01) & (dfamtavg2 > 0)]"
   ]
  },
  {
   "cell_type": "markdown",
   "metadata": {},
   "source": [
    "### Probability of terminal winning "
   ]
  },
  {
   "cell_type": "code",
   "execution_count": null,
   "metadata": {},
   "outputs": [],
   "source": [
    "dfplus2"
   ]
  },
  {
   "cell_type": "code",
   "execution_count": null,
   "metadata": {},
   "outputs": [],
   "source": [
    "dfplus2[(dfruin2 < 0.01) & (dfamtavg2 > 0)]"
   ]
  },
  {
   "cell_type": "markdown",
   "metadata": {},
   "source": [
    "### Average Terminal P/L"
   ]
  },
  {
   "cell_type": "code",
   "execution_count": null,
   "metadata": {},
   "outputs": [],
   "source": [
    "dfamtavg2[(dfruin2 < 0.01) & (dfamtavg2 > 0)]"
   ]
  },
  {
   "cell_type": "markdown",
   "metadata": {},
   "source": [
    "### SD Terminal P/L"
   ]
  },
  {
   "cell_type": "code",
   "execution_count": null,
   "metadata": {},
   "outputs": [],
   "source": [
    "dfamtstd2[(dfruin2 < 0.01) & (dfamtavg2 > 0)]"
   ]
  },
  {
   "cell_type": "markdown",
   "metadata": {},
   "source": [
    "## Fixed Profit Factor = 1.5, 104 bets, varied prob & per bet "
   ]
  },
  {
   "cell_type": "code",
   "execution_count": null,
   "metadata": {},
   "outputs": [],
   "source": [
    "oddslist = [0.25 * r for r in range(2, 13)]\n",
    "amtlist = [25, 20, 12.5, 10, 8, 5, 4, 3, 2, 1]\n",
    "dollist = [f'${amt}' for amt in amtlist]\n",
    "\n",
    "base = 100\n",
    "numtrials = 104\n",
    "numsim = 1000\n",
    "pfactor = 1.5\n",
    "\n",
    "dfruin3 = pd.DataFrame(columns=oddslist, index=dollist)\n",
    "dfplus3 = pd.DataFrame(columns=oddslist, index=dollist)\n",
    "dfamtavg3 = pd.DataFrame(columns=oddslist, index=dollist)\n",
    "dfamtstd3 = pd.DataFrame(columns=oddslist, index=dollist)\n",
    "\n",
    "\n",
    "for odds, amt in product(oddslist, amtlist):\n",
    "    p = pfactor / (odds + pfactor)\n",
    "    dfbet, kpidict = getsimkpi(base, amt, p, odds, numtrials, numsim)\n",
    "    betdict[(p, odds, amt)] = dfbet\n",
    "    dfruin3.loc[f'${amt}', odds] = kpidict['ruin']\n",
    "    dfplus3.loc[f'${amt}', odds] = kpidict['win%']  \n",
    "    dfamtavg3.loc[f'${amt}', odds] = kpidict['P/Lavg'] \n",
    "    dfamtstd3.loc[f'${amt}', odds] = kpidict['P/Lstd'] "
   ]
  },
  {
   "cell_type": "markdown",
   "metadata": {},
   "source": [
    "### Risk-of-ruin"
   ]
  },
  {
   "cell_type": "code",
   "execution_count": null,
   "metadata": {},
   "outputs": [],
   "source": [
    "dfruin3"
   ]
  },
  {
   "cell_type": "code",
   "execution_count": null,
   "metadata": {},
   "outputs": [],
   "source": [
    "dfruin3[(dfruin3 < 0.01) & (dfamtavg3 > 0)]"
   ]
  },
  {
   "cell_type": "markdown",
   "metadata": {},
   "source": [
    "### Terminal winning probabilities"
   ]
  },
  {
   "cell_type": "code",
   "execution_count": null,
   "metadata": {},
   "outputs": [],
   "source": [
    "dfplus3"
   ]
  },
  {
   "cell_type": "markdown",
   "metadata": {},
   "source": [
    "### Average Terminal P/L"
   ]
  },
  {
   "cell_type": "code",
   "execution_count": null,
   "metadata": {},
   "outputs": [],
   "source": [
    "dfamtavg3[(dfruin3 < 0.01) & (dfamtavg3 > 0)]"
   ]
  },
  {
   "cell_type": "markdown",
   "metadata": {},
   "source": [
    "### SD Terminal P/L"
   ]
  },
  {
   "cell_type": "code",
   "execution_count": null,
   "metadata": {},
   "outputs": [],
   "source": [
    "dfamtstd3[(dfruin3 < 0.01) & (dfamtavg3 > 0)]"
   ]
  },
  {
   "cell_type": "markdown",
   "metadata": {},
   "source": [
    "## Fixed winrate p and odds b, varied number of trials & bet amount"
   ]
  },
  {
   "cell_type": "code",
   "execution_count": null,
   "metadata": {},
   "outputs": [],
   "source": [
    "numsim = 1000\n",
    "base = 100\n",
    "p = 0.54\n",
    "b = 1.56\n",
    "pfactor = b*p / (1 - p)\n",
    "print(f'Profit Factor = {pfactor}')\n",
    "triallist = list(range(50, 300, 50))\n",
    "amtlist = [25, 20, 12.5, 10, 8, 5, 4, 3, 2, 1]\n",
    "dollist = [f'${amt}' for amt in amtlist]\n",
    "\n",
    "dfruin4 = pd.DataFrame(columns=triallist, index=dollist)\n",
    "dfplus4 = pd.DataFrame(columns=triallist, index=dollist)\n",
    "dfamtavg4 = pd.DataFrame(columns=triallist, index=dollist)\n",
    "dfamtstd4 = pd.DataFrame(columns=triallist, index=dollist)\n",
    "\n",
    "for numtrial, amt in product(triallist, amtlist):\n",
    "    dfbet, kpidict = getsimkpi(base, amt, p, b, numtrial, numsim)\n",
    "    dfruin4.loc[f'${amt}', numtrial] = kpidict['ruin']\n",
    "    dfplus4.loc[f'${amt}', numtrial] = kpidict['win%']  \n",
    "    dfamtavg4.loc[f'${amt}', numtrial] = kpidict['P/Lavg'] \n",
    "    dfamtstd4.loc[f'${amt}', numtrial] = kpidict['P/Lstd'] "
   ]
  },
  {
   "cell_type": "markdown",
   "metadata": {},
   "source": [
    "### Risk-of-ruin"
   ]
  },
  {
   "cell_type": "code",
   "execution_count": null,
   "metadata": {},
   "outputs": [],
   "source": [
    "dfruin4"
   ]
  },
  {
   "cell_type": "markdown",
   "metadata": {},
   "source": [
    "### Terminal winning probabilities"
   ]
  },
  {
   "cell_type": "code",
   "execution_count": null,
   "metadata": {},
   "outputs": [],
   "source": [
    "dfplus4[dfruin4 < 0.01]"
   ]
  },
  {
   "cell_type": "markdown",
   "metadata": {},
   "source": [
    "### Average Terminal P/L"
   ]
  },
  {
   "cell_type": "code",
   "execution_count": null,
   "metadata": {},
   "outputs": [],
   "source": [
    "dfamtavg4[(dfruin4 < 0.01)]"
   ]
  },
  {
   "cell_type": "code",
   "execution_count": null,
   "metadata": {},
   "outputs": [],
   "source": []
  }
 ],
 "metadata": {
  "kernelspec": {
   "display_name": "Python 3",
   "language": "python",
   "name": "python3"
  },
  "language_info": {
   "codemirror_mode": {
    "name": "ipython",
    "version": 3
   },
   "file_extension": ".py",
   "mimetype": "text/x-python",
   "name": "python",
   "nbconvert_exporter": "python",
   "pygments_lexer": "ipython3",
   "version": "3.8.5"
  }
 },
 "nbformat": 4,
 "nbformat_minor": 4
}
