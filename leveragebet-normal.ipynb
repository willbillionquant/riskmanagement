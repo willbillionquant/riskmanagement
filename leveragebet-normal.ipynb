{
 "cells": [
  {
   "cell_type": "markdown",
   "metadata": {},
   "source": [
    "## Modules"
   ]
  },
  {
   "cell_type": "code",
   "execution_count": 1,
   "metadata": {},
   "outputs": [],
   "source": [
    "import os\n",
    "import sys\n",
    "sys.path.append('..')\n",
    "\n",
    "import numpy as np\n",
    "import pandas as pd\n",
    " \n",
    "from datetime import datetime, timedelta\n",
    "from itertools import product\n",
    "from scipy.stats import norm\n",
    "\n",
    "import matplotlib.pyplot as plt\n",
    "import plotly.express as px\n",
    "import plotly.graph_objects as go"
   ]
  },
  {
   "cell_type": "markdown",
   "metadata": {},
   "source": [
    "## Log-normal returns simulation"
   ]
  },
  {
   "cell_type": "markdown",
   "metadata": {},
   "source": [
    "### Normal random vectors of log return & percentage return"
   ]
  },
  {
   "cell_type": "code",
   "execution_count": 2,
   "metadata": {},
   "outputs": [
    {
     "name": "stdout",
     "output_type": "stream",
     "text": [
      "Random log returns of 20 periods:\n",
      " [ 0.5177831   0.12969141  0.10444866 -0.09246233 -0.15872585  0.18639108\n",
      "  0.1254533   0.45116374  0.14087741  0.35484623  0.35183421 -0.18597178\n",
      "  0.13137714  0.32301367  0.41515505 -0.15249196 -0.29531534  0.03871259\n",
      " -0.13282912 -0.29904255], \n",
      "\n",
      "Random percentage returns of 20 periods:\n",
      " [ 0.6783029   0.138477    0.1100984  -0.08831645 -0.14676976  0.20489337\n",
      "  0.13366223  0.57013836  0.15128351  0.42596136  0.42167281 -0.16970298\n",
      "  0.14039778  0.38128423  0.51460557 -0.1414342  -0.25570316  0.03947169\n",
      " -0.12438529 -0.25847214]\n"
     ]
    }
   ],
   "source": [
    "miu0 = 0.12\n",
    "sig0 = 0.24\n",
    "k0 = 20\n",
    "randVect0 = np.random.normal(miu0, sig0, k0)\n",
    "\n",
    "print(f'Random log returns of {k0} periods:\\n {randVect0}, \\n')\n",
    "print(f'Random percentage returns of {k0} periods:\\n {np.exp(randVect0) - 1}')"
   ]
  },
  {
   "cell_type": "markdown",
   "metadata": {},
   "source": [
    "### Fixed-leverage-betting on normally distributed returns"
   ]
  },
  {
   "cell_type": "code",
   "execution_count": 3,
   "metadata": {},
   "outputs": [],
   "source": [
    "def getSim_fixLev(initAmount=100, lev=1.00, miu=0.05, sig=0.2, numPeriod=60, numSim=1000):\n",
    "    \"\"\"\n",
    "    Obtain dataframe of fixed-leverage-bet simulations, with returns of each interval normally distributed.\n",
    "    Assume zero-cost-rebalance at the end of each period.\n",
    "    initAmount: initial capital\n",
    "    miu: (non-annualized) mean return\n",
    "    sig: (non-annualized) sigma\n",
    "    numPeriod: number of periods\n",
    "    numSim: number of simulations\n",
    "    \"\"\"\n",
    "    # Dict for recording different series of total equity\n",
    "    dictAmount = {}\n",
    "    # Generate a total of `numSim`= N series of normally distributed returns\n",
    "    for num in range(numSim):\n",
    "        # vector of log returns in each period and exponentiate\n",
    "        arrPct = np.exp(np.random.normal(miu, sig, numPeriod))\n",
    "        # convert into growth factor vector by converting to percentage change vector, multiply by leverage, and add 1\n",
    "        arrFactor = 1 + lev * (arrPct - 1)\n",
    "        # equity vector by cumulative multiplying by growth factors\n",
    "        arrAmount = initAmount * arrFactor.cumprod()\n",
    "        # IF equity drops to 0 or even below (due to over-leverage), stop betting, set the remaining equity to 1/10000\n",
    "        # of initial amount and fix it in the remaining series (for the sake of legal semi-log equity curve plotting)\n",
    "        # (This artificial \"residual equity\" is unreal assummption, the reality is more cruel than this!)\n",
    "        numBet = 1\n",
    "        amtRuin = initAmount / 10000\n",
    "        while numBet <= numPeriod - 1:\n",
    "            if arrAmount[numBet] <= amtRuin:\n",
    "                for j in range(numBet, numPeriod):\n",
    "                    arrAmount[j] = amtRuin\n",
    "                break\n",
    "            numBet += 1\n",
    "        dictAmount[f's{num + 1}'] = arrAmount\n",
    "        # Form dataframe from the `dictAmount` and transpose, so that each row corresponds to a betting series\n",
    "    dfSim = pd.DataFrame(dictAmount).transpose()\n",
    "    # Rename columns so that each number in column labels corresponds to the k-th trial\n",
    "    dfSim = dfSim.rename(columns={k: (k + 1) for k in dfSim.columns})\n",
    "\n",
    "    return dfSim"
   ]
  },
  {
   "cell_type": "markdown",
   "metadata": {},
   "source": [
    "### Sample of 20 simulations of 12 periods"
   ]
  },
  {
   "cell_type": "code",
   "execution_count": 4,
   "metadata": {},
   "outputs": [
    {
     "data": {
      "text/html": [
       "<div>\n",
       "<style scoped>\n",
       "    .dataframe tbody tr th:only-of-type {\n",
       "        vertical-align: middle;\n",
       "    }\n",
       "\n",
       "    .dataframe tbody tr th {\n",
       "        vertical-align: top;\n",
       "    }\n",
       "\n",
       "    .dataframe thead th {\n",
       "        text-align: right;\n",
       "    }\n",
       "</style>\n",
       "<table border=\"1\" class=\"dataframe\">\n",
       "  <thead>\n",
       "    <tr style=\"text-align: right;\">\n",
       "      <th></th>\n",
       "      <th>1</th>\n",
       "      <th>2</th>\n",
       "      <th>3</th>\n",
       "      <th>4</th>\n",
       "      <th>5</th>\n",
       "      <th>6</th>\n",
       "      <th>7</th>\n",
       "      <th>8</th>\n",
       "      <th>9</th>\n",
       "      <th>10</th>\n",
       "      <th>11</th>\n",
       "      <th>12</th>\n",
       "    </tr>\n",
       "  </thead>\n",
       "  <tbody>\n",
       "    <tr>\n",
       "      <th>s1</th>\n",
       "      <td>85.49</td>\n",
       "      <td>91.81</td>\n",
       "      <td>87.53</td>\n",
       "      <td>105.39</td>\n",
       "      <td>127.89</td>\n",
       "      <td>138.60</td>\n",
       "      <td>176.12</td>\n",
       "      <td>180.79</td>\n",
       "      <td>226.89</td>\n",
       "      <td>363.35</td>\n",
       "      <td>298.36</td>\n",
       "      <td>342.45</td>\n",
       "    </tr>\n",
       "    <tr>\n",
       "      <th>s2</th>\n",
       "      <td>134.39</td>\n",
       "      <td>211.42</td>\n",
       "      <td>243.63</td>\n",
       "      <td>330.29</td>\n",
       "      <td>334.89</td>\n",
       "      <td>607.95</td>\n",
       "      <td>591.09</td>\n",
       "      <td>464.39</td>\n",
       "      <td>462.60</td>\n",
       "      <td>594.35</td>\n",
       "      <td>707.18</td>\n",
       "      <td>1152.41</td>\n",
       "    </tr>\n",
       "    <tr>\n",
       "      <th>s3</th>\n",
       "      <td>160.62</td>\n",
       "      <td>233.14</td>\n",
       "      <td>233.99</td>\n",
       "      <td>204.53</td>\n",
       "      <td>145.74</td>\n",
       "      <td>113.73</td>\n",
       "      <td>87.58</td>\n",
       "      <td>86.15</td>\n",
       "      <td>61.97</td>\n",
       "      <td>61.81</td>\n",
       "      <td>37.77</td>\n",
       "      <td>41.56</td>\n",
       "    </tr>\n",
       "    <tr>\n",
       "      <th>s4</th>\n",
       "      <td>123.81</td>\n",
       "      <td>244.18</td>\n",
       "      <td>152.40</td>\n",
       "      <td>181.77</td>\n",
       "      <td>168.17</td>\n",
       "      <td>266.08</td>\n",
       "      <td>346.15</td>\n",
       "      <td>378.49</td>\n",
       "      <td>667.29</td>\n",
       "      <td>537.98</td>\n",
       "      <td>611.04</td>\n",
       "      <td>938.70</td>\n",
       "    </tr>\n",
       "    <tr>\n",
       "      <th>s5</th>\n",
       "      <td>157.98</td>\n",
       "      <td>217.18</td>\n",
       "      <td>309.76</td>\n",
       "      <td>443.84</td>\n",
       "      <td>479.96</td>\n",
       "      <td>543.97</td>\n",
       "      <td>543.91</td>\n",
       "      <td>306.55</td>\n",
       "      <td>384.82</td>\n",
       "      <td>551.09</td>\n",
       "      <td>610.04</td>\n",
       "      <td>346.95</td>\n",
       "    </tr>\n",
       "    <tr>\n",
       "      <th>s6</th>\n",
       "      <td>133.61</td>\n",
       "      <td>108.46</td>\n",
       "      <td>110.48</td>\n",
       "      <td>146.83</td>\n",
       "      <td>174.24</td>\n",
       "      <td>180.73</td>\n",
       "      <td>232.06</td>\n",
       "      <td>203.78</td>\n",
       "      <td>299.02</td>\n",
       "      <td>287.62</td>\n",
       "      <td>345.39</td>\n",
       "      <td>240.76</td>\n",
       "    </tr>\n",
       "    <tr>\n",
       "      <th>s7</th>\n",
       "      <td>66.84</td>\n",
       "      <td>63.61</td>\n",
       "      <td>83.61</td>\n",
       "      <td>92.03</td>\n",
       "      <td>116.77</td>\n",
       "      <td>93.30</td>\n",
       "      <td>129.83</td>\n",
       "      <td>159.96</td>\n",
       "      <td>162.61</td>\n",
       "      <td>179.91</td>\n",
       "      <td>207.54</td>\n",
       "      <td>236.19</td>\n",
       "    </tr>\n",
       "    <tr>\n",
       "      <th>s8</th>\n",
       "      <td>78.19</td>\n",
       "      <td>136.85</td>\n",
       "      <td>110.49</td>\n",
       "      <td>183.52</td>\n",
       "      <td>143.56</td>\n",
       "      <td>137.09</td>\n",
       "      <td>81.28</td>\n",
       "      <td>89.65</td>\n",
       "      <td>104.78</td>\n",
       "      <td>115.02</td>\n",
       "      <td>95.69</td>\n",
       "      <td>81.34</td>\n",
       "    </tr>\n",
       "    <tr>\n",
       "      <th>s9</th>\n",
       "      <td>179.56</td>\n",
       "      <td>156.84</td>\n",
       "      <td>117.24</td>\n",
       "      <td>119.45</td>\n",
       "      <td>137.07</td>\n",
       "      <td>152.49</td>\n",
       "      <td>125.23</td>\n",
       "      <td>157.76</td>\n",
       "      <td>226.15</td>\n",
       "      <td>103.53</td>\n",
       "      <td>92.69</td>\n",
       "      <td>102.41</td>\n",
       "    </tr>\n",
       "    <tr>\n",
       "      <th>s10</th>\n",
       "      <td>62.47</td>\n",
       "      <td>76.14</td>\n",
       "      <td>55.80</td>\n",
       "      <td>52.56</td>\n",
       "      <td>103.60</td>\n",
       "      <td>153.88</td>\n",
       "      <td>114.45</td>\n",
       "      <td>84.92</td>\n",
       "      <td>65.34</td>\n",
       "      <td>112.72</td>\n",
       "      <td>123.93</td>\n",
       "      <td>168.33</td>\n",
       "    </tr>\n",
       "    <tr>\n",
       "      <th>s11</th>\n",
       "      <td>121.77</td>\n",
       "      <td>43.93</td>\n",
       "      <td>52.35</td>\n",
       "      <td>57.36</td>\n",
       "      <td>57.63</td>\n",
       "      <td>40.28</td>\n",
       "      <td>66.39</td>\n",
       "      <td>52.87</td>\n",
       "      <td>65.61</td>\n",
       "      <td>37.98</td>\n",
       "      <td>29.65</td>\n",
       "      <td>25.75</td>\n",
       "    </tr>\n",
       "    <tr>\n",
       "      <th>s12</th>\n",
       "      <td>96.34</td>\n",
       "      <td>131.51</td>\n",
       "      <td>245.22</td>\n",
       "      <td>343.07</td>\n",
       "      <td>432.89</td>\n",
       "      <td>496.22</td>\n",
       "      <td>576.28</td>\n",
       "      <td>335.31</td>\n",
       "      <td>389.12</td>\n",
       "      <td>458.77</td>\n",
       "      <td>258.71</td>\n",
       "      <td>356.98</td>\n",
       "    </tr>\n",
       "    <tr>\n",
       "      <th>s13</th>\n",
       "      <td>86.28</td>\n",
       "      <td>64.80</td>\n",
       "      <td>52.66</td>\n",
       "      <td>51.28</td>\n",
       "      <td>63.93</td>\n",
       "      <td>72.52</td>\n",
       "      <td>84.41</td>\n",
       "      <td>101.84</td>\n",
       "      <td>104.73</td>\n",
       "      <td>107.91</td>\n",
       "      <td>110.24</td>\n",
       "      <td>95.67</td>\n",
       "    </tr>\n",
       "    <tr>\n",
       "      <th>s14</th>\n",
       "      <td>131.87</td>\n",
       "      <td>200.90</td>\n",
       "      <td>241.06</td>\n",
       "      <td>391.82</td>\n",
       "      <td>375.35</td>\n",
       "      <td>438.27</td>\n",
       "      <td>541.16</td>\n",
       "      <td>1011.80</td>\n",
       "      <td>1206.05</td>\n",
       "      <td>894.69</td>\n",
       "      <td>813.42</td>\n",
       "      <td>724.18</td>\n",
       "    </tr>\n",
       "    <tr>\n",
       "      <th>s15</th>\n",
       "      <td>68.04</td>\n",
       "      <td>96.82</td>\n",
       "      <td>135.12</td>\n",
       "      <td>213.32</td>\n",
       "      <td>180.46</td>\n",
       "      <td>181.33</td>\n",
       "      <td>186.30</td>\n",
       "      <td>217.86</td>\n",
       "      <td>210.24</td>\n",
       "      <td>77.56</td>\n",
       "      <td>112.77</td>\n",
       "      <td>70.82</td>\n",
       "    </tr>\n",
       "    <tr>\n",
       "      <th>s16</th>\n",
       "      <td>114.12</td>\n",
       "      <td>125.25</td>\n",
       "      <td>118.73</td>\n",
       "      <td>164.53</td>\n",
       "      <td>139.82</td>\n",
       "      <td>148.80</td>\n",
       "      <td>161.98</td>\n",
       "      <td>182.30</td>\n",
       "      <td>253.61</td>\n",
       "      <td>357.52</td>\n",
       "      <td>432.94</td>\n",
       "      <td>804.63</td>\n",
       "    </tr>\n",
       "    <tr>\n",
       "      <th>s17</th>\n",
       "      <td>120.48</td>\n",
       "      <td>124.71</td>\n",
       "      <td>209.05</td>\n",
       "      <td>212.39</td>\n",
       "      <td>117.23</td>\n",
       "      <td>114.08</td>\n",
       "      <td>142.43</td>\n",
       "      <td>260.30</td>\n",
       "      <td>231.38</td>\n",
       "      <td>421.25</td>\n",
       "      <td>472.70</td>\n",
       "      <td>155.47</td>\n",
       "    </tr>\n",
       "    <tr>\n",
       "      <th>s18</th>\n",
       "      <td>61.20</td>\n",
       "      <td>52.13</td>\n",
       "      <td>45.87</td>\n",
       "      <td>55.59</td>\n",
       "      <td>35.48</td>\n",
       "      <td>33.21</td>\n",
       "      <td>35.93</td>\n",
       "      <td>48.98</td>\n",
       "      <td>54.78</td>\n",
       "      <td>60.14</td>\n",
       "      <td>56.98</td>\n",
       "      <td>67.93</td>\n",
       "    </tr>\n",
       "    <tr>\n",
       "      <th>s19</th>\n",
       "      <td>121.35</td>\n",
       "      <td>125.17</td>\n",
       "      <td>143.27</td>\n",
       "      <td>161.63</td>\n",
       "      <td>179.65</td>\n",
       "      <td>201.63</td>\n",
       "      <td>199.12</td>\n",
       "      <td>168.92</td>\n",
       "      <td>222.54</td>\n",
       "      <td>405.52</td>\n",
       "      <td>301.80</td>\n",
       "      <td>309.55</td>\n",
       "    </tr>\n",
       "    <tr>\n",
       "      <th>s20</th>\n",
       "      <td>118.06</td>\n",
       "      <td>190.39</td>\n",
       "      <td>178.32</td>\n",
       "      <td>239.91</td>\n",
       "      <td>266.00</td>\n",
       "      <td>313.46</td>\n",
       "      <td>432.30</td>\n",
       "      <td>344.30</td>\n",
       "      <td>641.89</td>\n",
       "      <td>780.16</td>\n",
       "      <td>953.46</td>\n",
       "      <td>1077.77</td>\n",
       "    </tr>\n",
       "  </tbody>\n",
       "</table>\n",
       "</div>"
      ],
      "text/plain": [
       "         1       2       3       4       5       6       7        8        9   \\\n",
       "s1    85.49   91.81   87.53  105.39  127.89  138.60  176.12   180.79   226.89   \n",
       "s2   134.39  211.42  243.63  330.29  334.89  607.95  591.09   464.39   462.60   \n",
       "s3   160.62  233.14  233.99  204.53  145.74  113.73   87.58    86.15    61.97   \n",
       "s4   123.81  244.18  152.40  181.77  168.17  266.08  346.15   378.49   667.29   \n",
       "s5   157.98  217.18  309.76  443.84  479.96  543.97  543.91   306.55   384.82   \n",
       "s6   133.61  108.46  110.48  146.83  174.24  180.73  232.06   203.78   299.02   \n",
       "s7    66.84   63.61   83.61   92.03  116.77   93.30  129.83   159.96   162.61   \n",
       "s8    78.19  136.85  110.49  183.52  143.56  137.09   81.28    89.65   104.78   \n",
       "s9   179.56  156.84  117.24  119.45  137.07  152.49  125.23   157.76   226.15   \n",
       "s10   62.47   76.14   55.80   52.56  103.60  153.88  114.45    84.92    65.34   \n",
       "s11  121.77   43.93   52.35   57.36   57.63   40.28   66.39    52.87    65.61   \n",
       "s12   96.34  131.51  245.22  343.07  432.89  496.22  576.28   335.31   389.12   \n",
       "s13   86.28   64.80   52.66   51.28   63.93   72.52   84.41   101.84   104.73   \n",
       "s14  131.87  200.90  241.06  391.82  375.35  438.27  541.16  1011.80  1206.05   \n",
       "s15   68.04   96.82  135.12  213.32  180.46  181.33  186.30   217.86   210.24   \n",
       "s16  114.12  125.25  118.73  164.53  139.82  148.80  161.98   182.30   253.61   \n",
       "s17  120.48  124.71  209.05  212.39  117.23  114.08  142.43   260.30   231.38   \n",
       "s18   61.20   52.13   45.87   55.59   35.48   33.21   35.93    48.98    54.78   \n",
       "s19  121.35  125.17  143.27  161.63  179.65  201.63  199.12   168.92   222.54   \n",
       "s20  118.06  190.39  178.32  239.91  266.00  313.46  432.30   344.30   641.89   \n",
       "\n",
       "         10      11       12  \n",
       "s1   363.35  298.36   342.45  \n",
       "s2   594.35  707.18  1152.41  \n",
       "s3    61.81   37.77    41.56  \n",
       "s4   537.98  611.04   938.70  \n",
       "s5   551.09  610.04   346.95  \n",
       "s6   287.62  345.39   240.76  \n",
       "s7   179.91  207.54   236.19  \n",
       "s8   115.02   95.69    81.34  \n",
       "s9   103.53   92.69   102.41  \n",
       "s10  112.72  123.93   168.33  \n",
       "s11   37.98   29.65    25.75  \n",
       "s12  458.77  258.71   356.98  \n",
       "s13  107.91  110.24    95.67  \n",
       "s14  894.69  813.42   724.18  \n",
       "s15   77.56  112.77    70.82  \n",
       "s16  357.52  432.94   804.63  \n",
       "s17  421.25  472.70   155.47  \n",
       "s18   60.14   56.98    67.93  \n",
       "s19  405.52  301.80   309.55  \n",
       "s20  780.16  953.46  1077.77  "
      ]
     },
     "execution_count": 4,
     "metadata": {},
     "output_type": "execute_result"
    }
   ],
   "source": [
    "initAmount1 = 100\n",
    "lev1 = 2.00\n",
    "miu1 = 0.04\n",
    "sig1 = 0.16\n",
    "numPeriod1 = 12\n",
    "numSim1 = 20\n",
    "\n",
    "dfSim1 = getSim_fixLev(initAmount1, lev1, miu1, sig1, numPeriod1, numSim1) \n",
    "np.round(dfSim1, 2)"
   ]
  },
  {
   "cell_type": "markdown",
   "metadata": {},
   "source": [
    "## Equity curve plotting"
   ]
  },
  {
   "cell_type": "markdown",
   "metadata": {},
   "source": [
    "### Simulation KPIs"
   ]
  },
  {
   "cell_type": "code",
   "execution_count": 5,
   "metadata": {},
   "outputs": [],
   "source": [
    "def getSimKPI_fixLev(initamt=100, lev=1.00, miu=0.05, sig=0.2, numPeriod=60, numsims=1000):\n",
    "    \"\"\"Obtain a dictionary of final performance KPI of simulations. \"\"\"\n",
    "    dfSim = getSim_fixLev(initamt, lev, miu, sig, numPeriod, numsims)\n",
    "    dictKPI = {}\n",
    "    dictKPI['miu'] = miu\n",
    "    dictKPI['sig'] = sig\n",
    "    dictKPI['lev'] = lev\n",
    "    dictKPI['NAsharpe'] = round(miu * (numPeriod ** 0.5) / sig, 4)\n",
    "    dictKPI['win%'] = round(100 * dfSim[dfSim[numPeriod] >= initamt].shape[0] / numsims, 2)\n",
    "    dictKPI['amountAvg'] = round(dfSim[numPeriod].mean(), 2)\n",
    "    dictKPI['amountMed'] = round(dfSim[numPeriod].median(), 2)\n",
    "    dictKPI['amountStd'] = round(dfSim[numPeriod].std(), 2)\n",
    "\n",
    "    return dfSim, dictKPI"
   ]
  },
  {
   "cell_type": "markdown",
   "metadata": {},
   "source": [
    "### Sample 1 (same parameter as above)"
   ]
  },
  {
   "cell_type": "code",
   "execution_count": 7,
   "metadata": {},
   "outputs": [
    {
     "data": {
      "text/plain": [
       "{'miu': 0.03,\n",
       " 'sig': 0.15,\n",
       " 'lev': 2.0,\n",
       " 'NAsharpe': 1.2,\n",
       " 'win%': 76.6,\n",
       " 'amountAvg': 1649.16,\n",
       " 'amountMed': 416.72,\n",
       " 'amountStd': 3922.63}"
      ]
     },
     "execution_count": 7,
     "metadata": {},
     "output_type": "execute_result"
    }
   ],
   "source": [
    "initAmount1 = 100\n",
    "lev1 = 2.00\n",
    "miu1 = 0.03\n",
    "sig1 = 0.15\n",
    "numPeriod1 = 36\n",
    "numSim1 = 1000\n",
    "\n",
    "dfSim1, dictKPI1 = getSimKPI_fixLev(initAmount1, lev1, miu1, sig1, numPeriod1, numSim1) \n",
    "dictKPI1"
   ]
  },
  {
   "cell_type": "markdown",
   "metadata": {},
   "source": [
    "### Function"
   ]
  },
  {
   "cell_type": "code",
   "execution_count": 10,
   "metadata": {},
   "outputs": [],
   "source": [
    "def plotSim_fixLev(initAmount=100, lev=1.00, miu=0.05, sig=0.2, numPeriod=60, numSim=1000):\n",
    "    \"\"\"Plot equity curves from the betting simulations.\"\"\"\n",
    "    # Dataframe and KPI dict from `getSimKPI()` function\n",
    "    dfSim, dictKPI = getSimKPI_fixLev(initAmount, lev, miu, sig, numPeriod, numSim)\n",
    "    # First line of diagram title\n",
    "    title = f'{numSim} simulations of {numPeriod}-periods \\n'\n",
    "    title += f'leverage {round(lev, 4)}, miu {round(100*miu, 2)}%, sig {round(100*sig, 2)}%\\n'\n",
    "    # Percentage of final equity above or equal to initial amount\n",
    "    winrate = dictKPI['win%']\n",
    "    amountAvg = dictKPI['amountAvg'] # Arithmetic mean of final equity\n",
    "    amountMed = dictKPI['amountMed'] # Median of final equity\n",
    "    amountStd = dictKPI['amountStd'] # SD of final equity\n",
    "    # Attach key stats to title text\n",
    "    sharpe = dictKPI['NAsharpe']\n",
    "    title += f'NA-sharpe: {sharpe}, final winrate: {winrate}% \\n'\n",
    "    title += f'Final equity mean: {amountAvg}, median: {amountMed}, SD: {amountStd}'\n",
    "    # Plot figure\n",
    "    fig = plt.figure(figsize=(12, 9))\n",
    "    # Append title\n",
    "    fig.suptitle(title, fontsize=12)\n",
    "    # Transpose the equity dataframe to plot\n",
    "    dfplot = dfSim.transpose()\n",
    "    # Adopt semi-log scale for fixed-percent-betting & linear scale for fixed-amount-betting\n",
    "    plt.semilogy(dfplot)\n",
    "    plt.plot(dfplot.index, np.repeat(initAmount, numPeriod), color='black', linewidth=3, linestyle='dashed')\n",
    "    plt.show()"
   ]
  },
  {
   "cell_type": "markdown",
   "metadata": {},
   "source": [
    "### Plotting simulations of sample 1"
   ]
  },
  {
   "cell_type": "code",
   "execution_count": null,
   "metadata": {},
   "outputs": [],
   "source": [
    "plotSim_fixLev(initAmount1, lev1, miu1, sig1, numPeriod1, numSim1)"
   ]
  },
  {
   "cell_type": "markdown",
   "metadata": {},
   "source": [
    "### Reduce  `sig` with everything else unchanged"
   ]
  },
  {
   "cell_type": "code",
   "execution_count": null,
   "metadata": {},
   "outputs": [],
   "source": [
    "sig2 = 0.1\n",
    "plotsimcurves(initamt1, lev1, miu1, sig2, numperiods1, numsims1)"
   ]
  },
  {
   "cell_type": "markdown",
   "metadata": {},
   "source": [
    "### Raise both `miu` & `sig` but keeps NA-sharpe and leverage unchanged"
   ]
  },
  {
   "cell_type": "code",
   "execution_count": null,
   "metadata": {},
   "outputs": [],
   "source": [
    "sharpe1 = 1.2 / (numperiods1 ** 0.5)\n",
    "miu3 = 0.05\n",
    "sig3 = sig1 * miu3 / miu1\n",
    "\n",
    "plotsimcurves(initamt1, lev1, miu3, sig3, numperiods1, numsims1)"
   ]
  },
  {
   "cell_type": "markdown",
   "metadata": {},
   "source": [
    "### Function to check MDD"
   ]
  },
  {
   "cell_type": "code",
   "execution_count": null,
   "metadata": {},
   "outputs": [],
   "source": [
    "def pctmdd(dfbet, mddlevels=(0.25, 0.5, 0.75)):\n",
    "    \"\"\"Obtain percentage of simulations with final amount dropping below the given equity threshold.\"\"\"\n",
    "    # Transpose the simulation dataframe\n",
    "    dfbett = dfbet.transpose()\n",
    "    numtrials = dfbet.shape[1]\n",
    "    numsim = dfbet.shape[0]\n",
    "    # Compute MDD\n",
    "    dfmdd = pd.DataFrame(columns=dfbett.columns)\n",
    "    for col in dfbett.columns:\n",
    "        dfmdd[col] = (dfbett[col] / dfbett[col].cummax() - 1).cummin()\n",
    "    # Tranpose back to match original shape\n",
    "    dfmdd = dfmdd.transpose()\n",
    "    # Compute percentage of simulations having MDD greater than the levels\n",
    "    mdddict = {}\n",
    "    for value in mddlevels:\n",
    "        mdddict[value] = dfmdd[dfmdd[numtrials] <= -value].shape[0] / numsim\n",
    "\n",
    "    \n",
    "    return dfmdd, mdddict   "
   ]
  },
  {
   "cell_type": "markdown",
   "metadata": {},
   "source": [
    "### Using example 1"
   ]
  },
  {
   "cell_type": "code",
   "execution_count": null,
   "metadata": {},
   "outputs": [],
   "source": [
    "dfmdd1, mdddict1 = pctmdd(dfbet1)\n",
    "for key, value in mdddict1.items():\n",
    "    print(f'\\n Percentage of betting series suffering {round(100*key)}% MDD: {round(100*value, 2)}%')"
   ]
  },
  {
   "cell_type": "markdown",
   "metadata": {},
   "source": [
    "### Using example 3"
   ]
  },
  {
   "cell_type": "code",
   "execution_count": null,
   "metadata": {},
   "outputs": [],
   "source": [
    "dfbet3, kpidict3 = getsimkpi(initamt1, lev1, miu3, sig3, numperiods1, numsims1) \n",
    "\n",
    "dfmdd3, mdddict3 = pctmdd(dfbet3)\n",
    "for key, value in mdddict3.items():\n",
    "    print(f'\\n Percentage of betting series suffering {round(100*key)}% MDD: {round(100*value, 2)}%')"
   ]
  },
  {
   "cell_type": "markdown",
   "metadata": {},
   "source": [
    "## Optimal leverage (Kelly formula of continuous returns)"
   ]
  },
  {
   "cell_type": "markdown",
   "metadata": {},
   "source": [
    "### Expected geometric growth (for normally distributed returns)\n",
    "\n",
    "- Reference: Edward Thorp, The Kelly Criterion in Blackjack, Sports Betting, and the Stock Market (1997)"
   ]
  },
  {
   "cell_type": "code",
   "execution_count": null,
   "metadata": {},
   "outputs": [],
   "source": [
    "def getnormgrow(lev=1.00, miu=0.03, sig=0.15, n=1):\n",
    "    \"\"\"Obtain expected geometric returns of random walk returns.\"\"\"\n",
    "    growth = n * lev * (miu - sig**2 * lev / 2)\n",
    "    \n",
    "    return growth\n",
    "\n",
    "def plotlevgrow(miu=0.03, sig=0.15, n=1, levmin=0.20, levmax=4.0, step=0.001):\n",
    "    \"\"\"Plot expected geometric growth given miu & sigma, and identify optimal leverage.\"\"\"\n",
    "    # Form pandas Series of expected return of varying leverage\n",
    "    levarr = np.arange(levmin, levmax, step)\n",
    "    growdict = {lev: getnormgrow(lev, miu, sig, n) for lev in levarr}\n",
    "    dfgrow = pd.DataFrame(pd.Series(growdict))\n",
    "    # Plot interactive diagram of f-percent curve\n",
    "    fig = px.line(x=dfgrow.index, y=dfgrow[0], labels={'x': 'lev', 'y': f'growth factor on {n} periods'})\n",
    "    fig.add_trace(go.Scatter(x=dfgrow.index, y=np.repeat(0, len(levarr)), name='0%'))\n",
    "    # Identify optimal leverage\n",
    "    bestlev = round(dfgrow[0].idxmax(), 4)\n",
    "    bestpl = round(dfgrow[0].max(), 4)\n",
    "    fig.add_trace(go.Scatter(x=(bestlev, ), y=(bestpl, ), line_color='green', name='Opt-lev', mode='markers+text', \n",
    "                             marker_size=10, text=f'{bestlev, round(bestpl, 4)}', textposition='bottom center'))\n",
    "    # Title\n",
    "    fig.update_layout(title=f'Expected geometric growoth of N({miu}, {sig})', title_x=0.5, width=1000, height=500)\n",
    "    # Show diagram\n",
    "    fig.show()"
   ]
  },
  {
   "cell_type": "code",
   "execution_count": null,
   "metadata": {},
   "outputs": [],
   "source": [
    "getnormgrow(lev1, miu1, sig1, numperiods1)"
   ]
  },
  {
   "cell_type": "code",
   "execution_count": null,
   "metadata": {},
   "outputs": [],
   "source": [
    "plotlevgrow(miu1, sig1, numperiods1)"
   ]
  },
  {
   "cell_type": "code",
   "execution_count": null,
   "metadata": {},
   "outputs": [],
   "source": [
    "plotlevgrow(miu1, sig2, numperiods1, 1.0, 5.0)"
   ]
  },
  {
   "cell_type": "code",
   "execution_count": null,
   "metadata": {},
   "outputs": [],
   "source": [
    "plotlevgrow(miu3, sig3, numperiods1, 0.2, 2.0)"
   ]
  },
  {
   "cell_type": "markdown",
   "metadata": {},
   "source": [
    "### Kelly optimal leverage (for normally distributed returns ONLY)"
   ]
  },
  {
   "cell_type": "code",
   "execution_count": null,
   "metadata": {},
   "outputs": [],
   "source": [
    "def getkellylev(miu, sig):\n",
    "    \"\"\"Obtain Kelly formula of optimal leverage.\"\"\"\n",
    "    return round(max(miu / sig**2, 0), 4)"
   ]
  },
  {
   "cell_type": "markdown",
   "metadata": {},
   "source": [
    "### Kelly leverage for a bunch of (`miu`, `sig`) pair\n",
    "\n",
    "- reasonable range of monthly returns: 0.5% - 5%  (annualized log-returns: 6% - 60%)\n",
    "- reasonable range of monthly volatility: 5% - 36%  (annualized volatility:  18% - 126%)"
   ]
  },
  {
   "cell_type": "code",
   "execution_count": null,
   "metadata": {},
   "outputs": [],
   "source": [
    "miuarr = np.arange(0.5, 5.5, 0.5) / 100\n",
    "sigarr = np.arange(0.18, 1.38, 0.12) / (12**0.5)\n",
    "nummonths = 36\n",
    "\n",
    "dfoptlev = pd.DataFrame()\n",
    "for miu, sig in product(miuarr, sigarr):\n",
    "    dfoptlev.loc[f'{round(100*miu, 2)}%', f'{round(100*sig, 2)}%'] = round(miu / sig**2, 4)\n",
    "    \n",
    "dfoptlev"
   ]
  },
  {
   "cell_type": "markdown",
   "metadata": {},
   "source": [
    "### NA-sharpe for a bunch of (`miu`, `sig`) pair"
   ]
  },
  {
   "cell_type": "code",
   "execution_count": null,
   "metadata": {},
   "outputs": [],
   "source": [
    "dfsharpe = pd.DataFrame()\n",
    "\n",
    "for miu, sig in product(miuarr, sigarr):\n",
    "    dfsharpe.loc[f'{round(100*miu, 2)}%', f'{round(100*sig, 2)}%'] = round(miu / sig * (nummonths ** 0.5), 4)\n",
    "    \n",
    "dfsharpe"
   ]
  },
  {
   "cell_type": "markdown",
   "metadata": {},
   "source": [
    "### Expected final equity on optimal leverage"
   ]
  },
  {
   "cell_type": "code",
   "execution_count": null,
   "metadata": {},
   "outputs": [],
   "source": [
    "dfpl = pd.DataFrame()\n",
    "\n",
    "for miu, sig in product(miuarr, sigarr):\n",
    "    optlev = dfoptlev.loc[f'{round(100*miu, 2)}%', f'{round(100*sig, 2)}%']\n",
    "    dfpl.loc[f'{round(100*miu, 2)}%', f'{round(100*sig, 2)}%'] = round(100 * np.exp(getnormgrow(optlev, miu, sig, nummonths)), 2)\n",
    "    \n",
    "dfpl"
   ]
  },
  {
   "cell_type": "markdown",
   "metadata": {},
   "source": [
    "## Adopt real stock price and check historical results on using leverage"
   ]
  },
  {
   "cell_type": "markdown",
   "metadata": {},
   "source": [
    "### Collecting OHLC data"
   ]
  },
  {
   "cell_type": "code",
   "execution_count": null,
   "metadata": {},
   "outputs": [],
   "source": [
    "import yfinance as yf\n",
    "\n",
    "def getyahoodata(symbollist, adjust=True, startstr='1990-01-01', endstr='2046-12-31'):\n",
    "    \"\"\"Scrape via yahoo API to obtain data for a symbollist.\"\"\"\n",
    "    symbolstr = ' '.join(symbollist)\n",
    "    renamedict = {'Date': 'date', 'Open': 'op', 'High': 'hi', 'Low': 'lo', 'Close': 'cl', 'Volume': 'vol',\n",
    "                   'Adj Close': 'adj_cl', 'Dividends': 'div', 'Stock Splits': 'split'}\n",
    "    ohlcvdfield = ['op', 'hi', 'lo', 'cl', 'vol', 'div']\n",
    "    datadict = {}\n",
    "\n",
    "    try:\n",
    "        dfdata = yf.download(symbolstr, start=startstr, end=endstr, auto_adjust=False, actions=True, \n",
    "                         group_by='Tickers', threads=16)\n",
    "    except:\n",
    "        dfdata = pd.DataFrame()\n",
    "\n",
    "    for symbol in symbollist:\n",
    "        #try:\n",
    "        dfsymbol = dfdata[(symbol, )].dropna()  # Raw data for the symbol\n",
    "        dfsymbol = dfsymbol[(dfsymbol['Volume'] > 0) | (dfsymbol['High'] > dfsymbol['Low'])] # Filter bad data\n",
    "        dfsymbol = dfsymbol.reset_index()\n",
    "        dfsymbol = dfsymbol.rename(columns=renamedict)\n",
    "        dfsymbol = dfsymbol.set_index('date')\n",
    "        if not adjust:\n",
    "            dfsymbol = dfsymbol[ohlcvdfield]\n",
    "            dfsymbol = dfsymbol.rename(columns={field: f'{symbol}_{field}' for field in ohlcvdfield})\n",
    "        else:\n",
    "            adjfactor = dfsymbol['adj_cl'] / dfsymbol['cl']\n",
    "            for field in ohlcvdfield[:-2]:\n",
    "                dfsymbol[f'adj_{field}'] = dfsymbol[field] * adjfactor\n",
    "            dfsymbol['adj_vol'] = dfsymbol['vol'] / adjfactor\n",
    "            dfsymbol = dfsymbol[[f'adj_{field}' for field in ohlcvdfield[:-1]]]\n",
    "            dfsymbol = dfsymbol.rename(columns={f'adj_{field}': f'{symbol}_{field}' for field in ohlcvdfield[:-1]})\n",
    "            dfsymbol = np.round(dfsymbol, 4)\n",
    "        datadict[symbol] = dfsymbol\n",
    "        #except:\n",
    "        #    print(f'Failed preparing data for {symbol}.')\n",
    "\n",
    "    dfallsymbols = pd.concat(datadict.values(), axis=1, join='inner')\n",
    "    dfallsymbols = dfallsymbols.fillna(method='ffill')\n",
    "    dfallsymbols = np.round(dfallsymbols, 4)\n",
    "\n",
    "    return dfallsymbols\n",
    "\n",
    "etflist = ['SPY', 'QQQ', 'SMH', 'ARKK', 'EWH']\n",
    "chipslist = ['TSLA', 'MSFT', 'NVDA', 'AMZN', 'MSCI']\n",
    "assetlist = etflist + chipslist\n",
    "\n",
    "startstr = '2010-07-02'\n",
    "endstr = '2022-07-01'\n",
    "dfohlcall = getyahoodata(assetlist, True, startstr, endstr)\n",
    "dfohlcall.index"
   ]
  },
  {
   "cell_type": "markdown",
   "metadata": {},
   "source": [
    "### Resample into monthly OHLC"
   ]
  },
  {
   "cell_type": "code",
   "execution_count": null,
   "metadata": {},
   "outputs": [],
   "source": [
    "def ohlcresample(dfohlc, assetlist, freq='M'):\n",
    "    \"\"\"Resample the OHLC dataframe into desired timeframe.\"\"\"\n",
    "    aggrule = {}\n",
    "    for asset in assetlist:\n",
    "        aggrule[f'{asset}_op'] = 'first'\n",
    "        aggrule[f'{asset}_hi'] = 'max'\n",
    "        aggrule[f'{asset}_lo'] = 'min'\n",
    "        aggrule[f'{asset}_cl'] = 'last'\n",
    "        aggrule[f'{asset}_vol'] = 'sum'\n",
    "    dfnew = dfohlc.resample(rule=freq, label='right').agg(aggrule)\n",
    "    \n",
    "    return dfnew\n",
    "\n",
    "dfmonthall = ohlcresample(dfohlcall, assetlist)\n",
    "dfmonthall.iloc[-12:, :10]"
   ]
  },
  {
   "cell_type": "markdown",
   "metadata": {},
   "source": [
    "### Compute optimal leverage of all symbols in every 36-month-period"
   ]
  },
  {
   "cell_type": "code",
   "execution_count": null,
   "metadata": {},
   "outputs": [],
   "source": [
    "nummonths = 36\n",
    "startstr1 = dfmonthall.index[-1-nummonths].strftime('%Y-%m-%d')\n",
    "endstr1 = dfmonthall.index[-1].strftime('%Y-%m-%d')\n",
    "\n",
    "dfopthist = pd.DataFrame(columns=['miu', 'sig', 'NAsharpe', 'optlev'])\n",
    "dfpct = pd.DataFrame()\n",
    "\n",
    "for asset in assetlist:\n",
    "    dfmonth = dfmonthall.loc[startstr1:endstr1, [f'{asset}_cl']]\n",
    "    dfpct[f'{asset}_pct'] = np.round(np.log(dfmonth[f'{asset}_cl'] / dfmonth[f'{asset}_cl'].shift(1)), 5)\n",
    "    dfpct[f'{asset}_chg'] = np.round(dfmonth[f'{asset}_cl'] / dfmonth[f'{asset}_cl'].shift(1) - 1, 5)\n",
    "    dfopthist.loc[asset, 'miu'] = round(dfpct[f'{asset}_pct'].mean(), 5)\n",
    "    dfopthist.loc[asset, 'sig'] = round(dfpct[f'{asset}_pct'].std(), 5)\n",
    "    dfopthist.loc[asset, 'NAsharpe'] = round(dfopthist.loc[asset, 'miu']/dfopthist.loc[asset, 'sig']*(nummonths**0.5), 4)\n",
    "    dfopthist.loc[asset, 'optlev'] = getkellylev(dfopthist.loc[asset, 'miu'] , dfopthist.loc[asset, 'sig'])\n",
    "    \n",
    "dfopthist"
   ]
  },
  {
   "cell_type": "markdown",
   "metadata": {},
   "source": [
    "### 1x leverage cumulative returns"
   ]
  },
  {
   "cell_type": "code",
   "execution_count": null,
   "metadata": {},
   "outputs": [],
   "source": [
    "dfnav0 = pd.DataFrame(index=dfpct.index)\n",
    "\n",
    "for asset in assetlist:\n",
    "    dfnav0[f'{asset}_NAV'] = (1 + dfpct[f'{asset}_chg']).cumprod()\n",
    "    \n",
    "dfnav0.iloc[0] = 1.00\n",
    "\n",
    "for asset in assetlist:\n",
    "    dfnav0[f'{asset}_DD'] = dfnav0[f'{asset}_NAV'] / dfnav0[f'{asset}_NAV'].cummax() - 1\n",
    "    dfnav0[f'{asset}_MDD'] = dfnav0[f'{asset}_DD'].cummin()\n",
    "    \n",
    "productfield = product(assetlist, ['NAV', 'DD', 'MDD'])\n",
    "dfnav0 = dfnav0[[f'{asset}_{field}' for asset, field in productfield]]\n",
    "    \n",
    "dfnav0.iloc[-6:, :12]"
   ]
  },
  {
   "cell_type": "markdown",
   "metadata": {},
   "source": [
    "### Append 1x return statistics to optlev dataframe"
   ]
  },
  {
   "cell_type": "code",
   "execution_count": null,
   "metadata": {},
   "outputs": [],
   "source": [
    "for asset in assetlist:\n",
    "    dfopthist.loc[asset, '1xNAV'] = dfnav0.loc[endstr1, f'{asset}_NAV']\n",
    "    dfopthist.loc[asset, '1xMDD'] = dfnav0.loc[endstr1, f'{asset}_MDD']   \n",
    "\n",
    "dfopthist"
   ]
  },
  {
   "cell_type": "markdown",
   "metadata": {},
   "source": [
    "### Adopt optimal leverage to past 36 months"
   ]
  },
  {
   "cell_type": "code",
   "execution_count": null,
   "metadata": {},
   "outputs": [],
   "source": [
    "tryassetlist = [asset for asset in assetlist if dfopthist.loc[asset, 'optlev'] > 0]\n",
    "dfnav = pd.DataFrame(index=dfpct.index)\n",
    "\n",
    "for asset in tryassetlist:\n",
    "    dfnav[f'{asset}_NAV'] = (1 + dfopthist.loc[asset, 'optlev'] * dfpct[f'{asset}_chg']).cumprod()\n",
    "    \n",
    "dfnav.iloc[0] = 1.0\n",
    "\n",
    "for i in range(dfnav.shape[1]):\n",
    "    for j in range(dfnav.shape[0]):\n",
    "        if dfnav.iloc[j, i] <= 0:\n",
    "            dfnav.iloc[j:, i] = dfnav.iloc[j, i]\n",
    "            \n",
    "for asset in tryassetlist:\n",
    "    dfnav[f'{asset}_DD'] = dfnav[f'{asset}_NAV'] / dfnav[f'{asset}_NAV'].cummax() - 1\n",
    "    dfnav[f'{asset}_MDD'] = dfnav[f'{asset}_DD'].cummin()\n",
    "\n",
    "tryproductfield = product(tryassetlist, ['NAV', 'DD', 'MDD'])\n",
    "dfnav = dfnav[[f'{asset}_{field}' for asset, field in tryproductfield]]\n",
    "\n",
    "for asset in assetlist:\n",
    "    if asset in tryassetlist:\n",
    "        dfopthist.loc[asset, 'optNAV'] = dfnav.loc[endstr1, f'{asset}_NAV']\n",
    "        dfopthist.loc[asset, 'optMDD'] = dfnav.loc[endstr1, f'{asset}_MDD']   \n",
    "    else:\n",
    "        dfopthist.loc[asset, 'optNAV'] = 1.000\n",
    "        dfopthist.loc[asset, 'optMDD'] = 0.000\n",
    "\n",
    "dfopthist"
   ]
  },
  {
   "cell_type": "markdown",
   "metadata": {},
   "source": [
    "### Closer inspection on day-to-day basis using opt-lev to invest"
   ]
  },
  {
   "cell_type": "code",
   "execution_count": null,
   "metadata": {},
   "outputs": [],
   "source": [
    "dfpctday = pd.DataFrame()\n",
    "\n",
    "for asset in assetlist:\n",
    "    dfday = dfohlcall.loc[startstr1:endstr1, [f'{asset}_cl']]\n",
    "    dfpctday[f'{asset}_pct'] = np.round(np.log(dfday[f'{asset}_cl'] / dfday[f'{asset}_cl'].shift(1)), 5)\n",
    "    dfpctday[f'{asset}_chg'] = np.round(dfday[f'{asset}_cl'] / dfday[f'{asset}_cl'].shift(1) - 1, 5)\n",
    "    \n",
    "dfnav1 = pd.DataFrame(index=dfpctday.index)\n",
    "\n",
    "for asset in assetlist:\n",
    "    dfnav1[f'{asset}_NAV'] = (1 + dfopthist.loc[asset, 'optlev'] * dfpctday[f'{asset}_chg']).cumprod()\n",
    "    \n",
    "dfnav1.iloc[0] = 1.0\n",
    "\n",
    "for i in range(dfnav1.shape[1]):\n",
    "    for j in range(dfnav1.shape[0]):\n",
    "        if dfnav1.iloc[j, i] <= 0:\n",
    "            dfnav1.iloc[j:, i] = dfnav1.iloc[j, i]\n",
    "            \n",
    "for asset in assetlist:\n",
    "    dfnav1[f'{asset}_DD'] = dfnav1[f'{asset}_NAV'] / dfnav1[f'{asset}_NAV'].cummax() - 1\n",
    "    dfnav1[f'{asset}_MDD'] = dfnav1[f'{asset}_DD'].cummin()\n",
    "\n",
    "productfield = product(assetlist, ['NAV', 'DD', 'MDD'])\n",
    "dfnav1 = dfnav1[[f'{asset}_{field}' for asset, field in productfield]]\n",
    "    \n",
    "dfoptday = dfopthist[['miu', 'sig', 'NAsharpe', 'optlev']]\n",
    "dfoptday.rename(columns={'miu': 'month_miu', 'sig': 'month_sig'}, inplace=True)\n",
    "\n",
    "for asset in assetlist:\n",
    "    dfoptday.loc[asset, 'optNAV'] = dfnav1[f'{asset}_NAV'][-1]\n",
    "    dfoptday.loc[asset, 'optMDD'] = dfnav1[f'{asset}_MDD'][-1]\n",
    "\n",
    "dfoptday"
   ]
  },
  {
   "cell_type": "markdown",
   "metadata": {},
   "source": [
    "### Search opt-lev from historical returns instead of Kelly formula"
   ]
  },
  {
   "cell_type": "code",
   "execution_count": null,
   "metadata": {},
   "outputs": [],
   "source": [
    "dfoptreal = dfopthist[['miu', 'sig', 'NAsharpe', 'optlev']]\n",
    "dfoptreal.rename(columns={'miu': 'month_miu', 'sig': 'month_sig'}, inplace=True)\n",
    "\n",
    "dfoptreal['optNAV'] = 1.000\n",
    "dfoptreal['optMDD'] = 0.000\n",
    "\n",
    "levarr = np.arange(0.2, 5.1, 0.1)\n",
    "\n",
    "for lev in levarr:\n",
    "    dfnav2 = pd.DataFrame(index=dfpctday.index)\n",
    "    \n",
    "    for asset in assetlist:\n",
    "        dfnav2[f'{asset}_NAV'] = (1 + lev * dfpctday[f'{asset}_chg']).cumprod()\n",
    "        \n",
    "    dfnav2.iloc[0] = 1.0\n",
    "\n",
    "    for i in range(dfnav2.shape[1]):\n",
    "        for j in range(dfnav2.shape[0]):\n",
    "            if dfnav2.iloc[j, i] <= 0:\n",
    "                dfnav2.iloc[j:, i] = dfnav2.iloc[j, i]\n",
    "                \n",
    "    for asset in assetlist:\n",
    "        dfnav2[f'{asset}_DD'] = dfnav2[f'{asset}_NAV'] / dfnav2[f'{asset}_NAV'].cummax() - 1\n",
    "        dfnav2[f'{asset}_MDD'] = dfnav2[f'{asset}_DD'].cummin()\n",
    "        \n",
    "        if dfnav2[f'{asset}_NAV'][-1] > dfoptreal.loc[asset, 'optNAV']:\n",
    "            dfoptreal.loc[asset, 'optNAV'] = dfnav2[f'{asset}_NAV'][-1]\n",
    "            dfoptreal.loc[asset, 'optMDD'] = dfnav2[f'{asset}_MDD'][-1]\n",
    "            dfoptreal.loc[asset, 'optlev'] = lev\n",
    "            \n",
    "    print(f'{round(lev, 1)}x buy-hold-rebalance done.')"
   ]
  },
  {
   "cell_type": "code",
   "execution_count": null,
   "metadata": {},
   "outputs": [],
   "source": [
    "dfoptreal"
   ]
  }
 ],
 "metadata": {
  "kernelspec": {
   "display_name": "Python 3",
   "language": "python",
   "name": "python3"
  },
  "language_info": {
   "codemirror_mode": {
    "name": "ipython",
    "version": 3
   },
   "file_extension": ".py",
   "mimetype": "text/x-python",
   "name": "python",
   "nbconvert_exporter": "python",
   "pygments_lexer": "ipython3",
   "version": "3.8.5"
  }
 },
 "nbformat": 4,
 "nbformat_minor": 4
}
