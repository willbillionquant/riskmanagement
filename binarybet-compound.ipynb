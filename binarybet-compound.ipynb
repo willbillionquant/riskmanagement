{
 "cells": [
  {
   "cell_type": "markdown",
   "metadata": {},
   "source": [
    "## Modules"
   ]
  },
  {
   "cell_type": "code",
   "execution_count": 1,
   "metadata": {},
   "outputs": [],
   "source": [
    "import os\n",
    "import sys\n",
    "sys.path.append('..')\n",
    "\n",
    "import numpy as np\n",
    "import pandas as pd\n",
    " \n",
    "from datetime import datetime, timedelta\n",
    "from itertools import product\n",
    "from scipy.stats import norm\n",
    "\n",
    "import matplotlib.pyplot as plt\n",
    "import plotly.express as px\n",
    "import plotly.graph_objects as go"
   ]
  },
  {
   "cell_type": "markdown",
   "metadata": {},
   "source": [
    "## Binary game Simulation"
   ]
  },
  {
   "cell_type": "markdown",
   "metadata": {},
   "source": [
    "### Fixed-percent-betting simulation"
   ]
  },
  {
   "cell_type": "code",
   "execution_count": 2,
   "metadata": {},
   "outputs": [],
   "source": [
    "def getSim_binaryFixPct(initAmount=100, f=12.5, p=0.5, b=1.5, numTrials=50, numSim=400):\n",
    "    \"\"\"\n",
    "    Obtain dictionary of equal-percent-bet simulation results.\n",
    "    initAmount: initial amount for betting\n",
    "    f: percent per bet\n",
    "    p: winning probability\n",
    "    b: reward-to-risk ratio (/ odds)\n",
    "    numTrialss: number of trials of the same binary game\n",
    "    numSim: number of binary simulations\n",
    "    \"\"\"\n",
    "    # Dict for recording different series of profit/loss\n",
    "    simDict = {}\n",
    "    # Dict for recording different series of capital (total equity)\n",
    "    amountDict = {}\n",
    "    # Generate a total of `numSim`= N series of binary game result and P/L\n",
    "    stepFunc = lambda x: 1 if x > 0 else 0  # Lambda Function for getting \"1\" with a fixed prob and \"0\" otherwise\n",
    "    for num in range(numSim):\n",
    "        # Generate a series of \"1\"/\"0\" with probability p\n",
    "        signArray = np.array([stepFunc(r) for r in np.random.uniform(p - 1, p, numTrials)])\n",
    "        # Series of asset growth factor based on win/loss result (EITHER (1 + b * f%) OR (1 -f%))\n",
    "        trialArray = 1 + f * ((b + 1) * signArray - 1) / 100\n",
    "        # Record the asset growth factor series into `simDict`\n",
    "        simDict[num + 1] = trialArray\n",
    "        # Array of total equity and record into `amountDict`\n",
    "        amountDict[f's{num + 1}'] = initAmount * trialArray.cumprod()\n",
    "    # Form dataframe from the `amountDict` and transpose, so that each row corresponds to a betting series\n",
    "    dfSim = pd.DataFrame(amountDict).transpose()\n",
    "    # Rename columns so that each number in column labels corresponds to the k-th trial\n",
    "    dfSim = dfSim.rename(columns={k: (k + 1) for k in dfSim.columns})\n",
    "\n",
    "    return dfSim"
   ]
  },
  {
   "cell_type": "markdown",
   "metadata": {},
   "source": [
    "### Performance KPIs: winning rate, RRR (Realized reward-risk ratio), profit factor"
   ]
  },
  {
   "cell_type": "code",
   "execution_count": 3,
   "metadata": {},
   "outputs": [],
   "source": [
    "def getProfitfactor(p, b):\n",
    "    \"\"\"Get profit factor of a binary game.\"\"\"\n",
    "    return round(p * b / (1 - p), 4)\n",
    "\n",
    "def getOdds(p, pf):\n",
    "    \"\"\"Given fixed winning rate and profit factor, find odds (or reward-risk ratio).\"\"\"\n",
    "    return pf * (1 - p) / p\n",
    "\n",
    "def getWinrate(b, pf):\n",
    "    \"\"\"Given fixed odds and profit factor, find winning rate.\"\"\"   \n",
    "    return pf / (pf + b)"
   ]
  },
  {
   "cell_type": "markdown",
   "metadata": {},
   "source": [
    "### Sample of 20 fixed-percent-betting simulations of 12 trials"
   ]
  },
  {
   "cell_type": "code",
   "execution_count": 4,
   "metadata": {},
   "outputs": [
    {
     "name": "stdout",
     "output_type": "stream",
     "text": [
      "Profit Factor = 1.6\n"
     ]
    },
    {
     "data": {
      "text/html": [
       "<div>\n",
       "<style scoped>\n",
       "    .dataframe tbody tr th:only-of-type {\n",
       "        vertical-align: middle;\n",
       "    }\n",
       "\n",
       "    .dataframe tbody tr th {\n",
       "        vertical-align: top;\n",
       "    }\n",
       "\n",
       "    .dataframe thead th {\n",
       "        text-align: right;\n",
       "    }\n",
       "</style>\n",
       "<table border=\"1\" class=\"dataframe\">\n",
       "  <thead>\n",
       "    <tr style=\"text-align: right;\">\n",
       "      <th></th>\n",
       "      <th>1</th>\n",
       "      <th>2</th>\n",
       "      <th>3</th>\n",
       "      <th>4</th>\n",
       "      <th>5</th>\n",
       "      <th>6</th>\n",
       "      <th>7</th>\n",
       "      <th>8</th>\n",
       "      <th>9</th>\n",
       "      <th>10</th>\n",
       "      <th>11</th>\n",
       "      <th>12</th>\n",
       "    </tr>\n",
       "  </thead>\n",
       "  <tbody>\n",
       "    <tr>\n",
       "      <th>s1</th>\n",
       "      <td>80.0</td>\n",
       "      <td>105.60</td>\n",
       "      <td>139.39</td>\n",
       "      <td>184.00</td>\n",
       "      <td>147.20</td>\n",
       "      <td>117.76</td>\n",
       "      <td>94.21</td>\n",
       "      <td>75.37</td>\n",
       "      <td>99.48</td>\n",
       "      <td>79.59</td>\n",
       "      <td>105.05</td>\n",
       "      <td>84.04</td>\n",
       "    </tr>\n",
       "    <tr>\n",
       "      <th>s2</th>\n",
       "      <td>132.0</td>\n",
       "      <td>174.24</td>\n",
       "      <td>230.00</td>\n",
       "      <td>184.00</td>\n",
       "      <td>242.88</td>\n",
       "      <td>320.60</td>\n",
       "      <td>256.48</td>\n",
       "      <td>338.55</td>\n",
       "      <td>446.89</td>\n",
       "      <td>357.51</td>\n",
       "      <td>471.91</td>\n",
       "      <td>377.53</td>\n",
       "    </tr>\n",
       "    <tr>\n",
       "      <th>s3</th>\n",
       "      <td>132.0</td>\n",
       "      <td>174.24</td>\n",
       "      <td>139.39</td>\n",
       "      <td>111.51</td>\n",
       "      <td>89.21</td>\n",
       "      <td>117.76</td>\n",
       "      <td>94.21</td>\n",
       "      <td>124.35</td>\n",
       "      <td>99.48</td>\n",
       "      <td>131.32</td>\n",
       "      <td>105.05</td>\n",
       "      <td>138.67</td>\n",
       "    </tr>\n",
       "    <tr>\n",
       "      <th>s4</th>\n",
       "      <td>80.0</td>\n",
       "      <td>105.60</td>\n",
       "      <td>139.39</td>\n",
       "      <td>184.00</td>\n",
       "      <td>242.88</td>\n",
       "      <td>194.30</td>\n",
       "      <td>155.44</td>\n",
       "      <td>124.35</td>\n",
       "      <td>164.15</td>\n",
       "      <td>216.67</td>\n",
       "      <td>173.34</td>\n",
       "      <td>138.67</td>\n",
       "    </tr>\n",
       "    <tr>\n",
       "      <th>s5</th>\n",
       "      <td>132.0</td>\n",
       "      <td>174.24</td>\n",
       "      <td>230.00</td>\n",
       "      <td>303.60</td>\n",
       "      <td>400.75</td>\n",
       "      <td>528.99</td>\n",
       "      <td>698.26</td>\n",
       "      <td>921.70</td>\n",
       "      <td>737.36</td>\n",
       "      <td>973.32</td>\n",
       "      <td>1284.78</td>\n",
       "      <td>1695.91</td>\n",
       "    </tr>\n",
       "    <tr>\n",
       "      <th>s6</th>\n",
       "      <td>132.0</td>\n",
       "      <td>174.24</td>\n",
       "      <td>139.39</td>\n",
       "      <td>184.00</td>\n",
       "      <td>242.88</td>\n",
       "      <td>194.30</td>\n",
       "      <td>256.48</td>\n",
       "      <td>205.18</td>\n",
       "      <td>270.84</td>\n",
       "      <td>357.51</td>\n",
       "      <td>286.01</td>\n",
       "      <td>377.53</td>\n",
       "    </tr>\n",
       "    <tr>\n",
       "      <th>s7</th>\n",
       "      <td>132.0</td>\n",
       "      <td>174.24</td>\n",
       "      <td>139.39</td>\n",
       "      <td>184.00</td>\n",
       "      <td>242.88</td>\n",
       "      <td>194.30</td>\n",
       "      <td>155.44</td>\n",
       "      <td>124.35</td>\n",
       "      <td>164.15</td>\n",
       "      <td>216.67</td>\n",
       "      <td>286.01</td>\n",
       "      <td>377.53</td>\n",
       "    </tr>\n",
       "    <tr>\n",
       "      <th>s8</th>\n",
       "      <td>132.0</td>\n",
       "      <td>174.24</td>\n",
       "      <td>230.00</td>\n",
       "      <td>184.00</td>\n",
       "      <td>242.88</td>\n",
       "      <td>320.60</td>\n",
       "      <td>423.19</td>\n",
       "      <td>338.55</td>\n",
       "      <td>270.84</td>\n",
       "      <td>357.51</td>\n",
       "      <td>471.91</td>\n",
       "      <td>622.92</td>\n",
       "    </tr>\n",
       "    <tr>\n",
       "      <th>s9</th>\n",
       "      <td>80.0</td>\n",
       "      <td>105.60</td>\n",
       "      <td>84.48</td>\n",
       "      <td>111.51</td>\n",
       "      <td>147.20</td>\n",
       "      <td>117.76</td>\n",
       "      <td>155.44</td>\n",
       "      <td>205.18</td>\n",
       "      <td>164.15</td>\n",
       "      <td>216.67</td>\n",
       "      <td>173.34</td>\n",
       "      <td>138.67</td>\n",
       "    </tr>\n",
       "    <tr>\n",
       "      <th>s10</th>\n",
       "      <td>80.0</td>\n",
       "      <td>64.00</td>\n",
       "      <td>51.20</td>\n",
       "      <td>40.96</td>\n",
       "      <td>32.77</td>\n",
       "      <td>43.25</td>\n",
       "      <td>57.09</td>\n",
       "      <td>75.37</td>\n",
       "      <td>99.48</td>\n",
       "      <td>131.32</td>\n",
       "      <td>105.05</td>\n",
       "      <td>84.04</td>\n",
       "    </tr>\n",
       "  </tbody>\n",
       "</table>\n",
       "</div>"
      ],
      "text/plain": [
       "        1       2       3       4       5       6       7       8       9   \\\n",
       "s1    80.0  105.60  139.39  184.00  147.20  117.76   94.21   75.37   99.48   \n",
       "s2   132.0  174.24  230.00  184.00  242.88  320.60  256.48  338.55  446.89   \n",
       "s3   132.0  174.24  139.39  111.51   89.21  117.76   94.21  124.35   99.48   \n",
       "s4    80.0  105.60  139.39  184.00  242.88  194.30  155.44  124.35  164.15   \n",
       "s5   132.0  174.24  230.00  303.60  400.75  528.99  698.26  921.70  737.36   \n",
       "s6   132.0  174.24  139.39  184.00  242.88  194.30  256.48  205.18  270.84   \n",
       "s7   132.0  174.24  139.39  184.00  242.88  194.30  155.44  124.35  164.15   \n",
       "s8   132.0  174.24  230.00  184.00  242.88  320.60  423.19  338.55  270.84   \n",
       "s9    80.0  105.60   84.48  111.51  147.20  117.76  155.44  205.18  164.15   \n",
       "s10   80.0   64.00   51.20   40.96   32.77   43.25   57.09   75.37   99.48   \n",
       "\n",
       "         10       11       12  \n",
       "s1    79.59   105.05    84.04  \n",
       "s2   357.51   471.91   377.53  \n",
       "s3   131.32   105.05   138.67  \n",
       "s4   216.67   173.34   138.67  \n",
       "s5   973.32  1284.78  1695.91  \n",
       "s6   357.51   286.01   377.53  \n",
       "s7   216.67   286.01   377.53  \n",
       "s8   357.51   471.91   622.92  \n",
       "s9   216.67   173.34   138.67  \n",
       "s10  131.32   105.05    84.04  "
      ]
     },
     "execution_count": 4,
     "metadata": {},
     "output_type": "execute_result"
    }
   ],
   "source": [
    "initAmount0 = 100  # Initial capital\n",
    "f0 = 20  # Fixed amount per bet\n",
    "p0 = 0.5   # winning probability\n",
    "b0 = 1.6   # reward-risk ratio / odds\n",
    "numTrials0 = 12 # Number of trials\n",
    "numSim0 = 10  # Number of simulations (how many people keep playing same game for 12 runs)\n",
    "\n",
    "pf0 = round(getProfitfactor(p0, b0), 4)\n",
    "print(f'Profit Factor = {pf0}')\n",
    "\n",
    "dfSim0 = np.round(getSim_binaryFixPct(initAmount0, f0, p0, b0, numTrials0, numSim0), 2)\n",
    "dfSim0"
   ]
  },
  {
   "cell_type": "markdown",
   "metadata": {},
   "source": [
    "## Equity curve plotting"
   ]
  },
  {
   "cell_type": "markdown",
   "metadata": {},
   "source": [
    "### Functions for simulation KPI & curve plotting"
   ]
  },
  {
   "cell_type": "code",
   "execution_count": 10,
   "metadata": {},
   "outputs": [],
   "source": [
    "def getSimKPI_discretePL(simFunc, initAmount=100, f=12.5, p=0.5, b=1.5, numTrials=50, numSim=400):\n",
    "    \"\"\"Obtain a dictionary of final performance KPI of simulations. \"\"\"\n",
    "    dfSim = simFunc(initAmount, f, p, b, numTrials, numSim)\n",
    "    dictKPI = {}\n",
    "    dictKPI['p'] = p\n",
    "    dictKPI['b'] = b\n",
    "    dictKPI['f'] = f\n",
    "    dictKPI['profitfactor'] = round(getProfitfactor(p, b), 4)\n",
    "    dictKPI['win%'] = round(100 * dfSim[dfSim[numTrials] >= initAmount].shape[0] / numSim, 2)\n",
    "    dictKPI['avgAmount'] = round(dfSim[numTrials].mean(), 2)\n",
    "    dictKPI['midAmount'] = round(dfSim[numTrials].median(), 2)\n",
    "    dictKPI['stdAmount'] = round(dfSim[numTrials].std(), 2)\n",
    "\n",
    "    return dfSim, dictKPI\n",
    "\n",
    "def plotSim_discretePL(simFunc, initAmount=100, f=12.5, p=0.5, b=1.5, numTrials=50, numSim=400, semilog=True):\n",
    "    \"\"\"Plot equity curves from the betting simulations.\"\"\"\n",
    "    # Dataframe and KPI dict from `getSimKPI_discretePL()` function\n",
    "    dfSim, dictKPI = getSimKPI_discretePL(simFunc, initAmount, f, p, b, numTrials, numSim)\n",
    "    # First line of diagram title\n",
    "    title = f'{numSim} simulations of {numTrials}-step binary game \\n'\n",
    "    if semilog:\n",
    "        title += f'Winning rate {round(p, 4)}, odds {round(b, 4)}, {f}% per bet \\n'\n",
    "    else:\n",
    "        title += f'Winning rate {round(p, 4)}, odds {round(b, 4)}, ${f} per bet \\n'\n",
    "\n",
    "    # Percentage of final equity above or equal to initial amount\n",
    "    winrate = dictKPI['win%']\n",
    "    avgAmount = dictKPI['avgAmount']  # Arithmetic mean of final equity\n",
    "    midAmount = dictKPI['midAmount']  # Median of final equity\n",
    "    stdAmount = dictKPI['stdAmount']  # SD of final equity\n",
    "    profitfactor = dictKPI['profitfactor']\n",
    "\n",
    "    # Attach key stats to title text\n",
    "    title += f'Profit factor: {profitfactor}, final winrate: {winrate}% \\n'\n",
    "    title += f'Final equity mean: {avgAmount}, median: {midAmount}, SD: {stdAmount}'\n",
    "\n",
    "    # Plot figure & append title\n",
    "    fig = plt.figure(figsize=(12, 9))\n",
    "    fig.suptitle(title, fontsize=12)\n",
    "\n",
    "    # Transpose the equity dataframe to plot\n",
    "    dfPlot = dfSim.transpose()\n",
    "\n",
    "    # Adopt semi-log scale for fixed-percent-betting & linear scale for fixed-amount-betting\n",
    "    if semilog:\n",
    "        plt.semilogy(dfPlot)\n",
    "    plt.plot(dfPlot.index, np.repeat(initAmount, numTrials), color='black', linewidth=3, linestyle='dashed')\n",
    "    plt.show()"
   ]
  },
  {
   "cell_type": "markdown",
   "metadata": {},
   "source": [
    "### KPI for standard sample: p = 0.4, b = 2.0"
   ]
  },
  {
   "cell_type": "code",
   "execution_count": 7,
   "metadata": {},
   "outputs": [
    {
     "data": {
      "text/plain": [
       "{'p': 0.4,\n",
       " 'b': 2.0,\n",
       " 'f': 10,\n",
       " 'profitfactor': 1.3333,\n",
       " 'win%': 64.3,\n",
       " 'avgAmount': 255.6,\n",
       " 'midAmount': 162.52,\n",
       " 'stdAmount': 308.46}"
      ]
     },
     "execution_count": 7,
     "metadata": {},
     "output_type": "execute_result"
    }
   ],
   "source": [
    "initAmount1 = 100  \n",
    "f1 = 10  \n",
    "p1 = 0.4   \n",
    "b1 = 2.0   \n",
    "numTrials1 = 50 \n",
    "numSim1 = 1000  \n",
    "\n",
    "dfSim1, dictKPI1 = getSimKPI_discretePL(getSim_binaryFixPct, initAmount1, f1, p1, b1,  numTrials1, numSim1)\n",
    "dictKPI1"
   ]
  },
  {
   "cell_type": "markdown",
   "metadata": {},
   "source": [
    "### Curves of 1000 simulations of 50 trials"
   ]
  },
  {
   "cell_type": "code",
   "execution_count": null,
   "metadata": {},
   "outputs": [],
   "source": [
    "plotSim_discretePL(getSim_binaryFixPct, initAmount1, f1, p1, b1, numTrials1, numSim1)"
   ]
  },
  {
   "cell_type": "markdown",
   "metadata": {},
   "source": [
    "### Raising winning rate & fix percent-per-bet, profit factor (odds reduced)"
   ]
  },
  {
   "cell_type": "code",
   "execution_count": null,
   "metadata": {},
   "outputs": [],
   "source": [
    "profitfactor1 = 4 / 3\n",
    "p2 = 0.6   \n",
    "b2 = getOdds(p2, profitfactor1)\n",
    "\n",
    "plotSim_discretePL(getSim_binaryFixPct, initAmount1, f1, p2, b2, numTrials1, numSim1)"
   ]
  },
  {
   "cell_type": "markdown",
   "metadata": {},
   "source": [
    "### Fix p & b, vary percent-per-bet"
   ]
  },
  {
   "cell_type": "code",
   "execution_count": null,
   "metadata": {},
   "outputs": [],
   "source": [
    "f2 = 8\n",
    "plotSim_discretePL(getSim_binaryFixPct, initAmount1, f2, p1, b1, numTrials1, numSim1)"
   ]
  },
  {
   "cell_type": "code",
   "execution_count": null,
   "metadata": {},
   "outputs": [],
   "source": [
    "f3 = 20\n",
    "plotSim_discretePL(getSim_binaryFixPct, initAmount1, f3, p1, b1, numTrials1, numSim1)"
   ]
  },
  {
   "cell_type": "markdown",
   "metadata": {},
   "source": [
    "## Risk control & ruin"
   ]
  },
  {
   "cell_type": "markdown",
   "metadata": {},
   "source": [
    "### Risk of ruin & MDD in a simulation"
   ]
  },
  {
   "cell_type": "code",
   "execution_count": null,
   "metadata": {},
   "outputs": [],
   "source": [
    "def getRuin(dfSim, initAmount=100, numTrial=50, level=0.1):\n",
    "    \"\"\"Obtain percentage of simulations with final amount dropping below the given equity threshold.\"\"\"   \n",
    "    return dfSim[dfSim[numTrial] <= level*initAmount].shape[0] / dfSim.shape[0]\n",
    "\n",
    "def getSimMDD(dfSim, levelsMDD=(0.2, 0.5, 0.8, 0.9)):\n",
    "    \"\"\"Obtain percentage of simulations with final amount dropping below the given equity threshold.\"\"\"\n",
    "    # Transpose the simulation dataframe\n",
    "    dfSimT = dfSim.transpose()\n",
    "    numTrial = dfSim.shape[1]\n",
    "    numSim = dfSim.shape[0]\n",
    "    # Compute MDD\n",
    "    dfMDD = pd.DataFrame(columns=dfSimT.columns)\n",
    "    for col in dfSimT.columns:\n",
    "        dfMDD[col] = (dfSimT[col] / dfSimT[col].cummax() - 1).cummin()\n",
    "    # Tranpose back to match original shape\n",
    "    dfMDD = dfMDD.transpose()\n",
    "    # Compute percentage of simulations having MDD greater than the levels\n",
    "    dictMDD = {}\n",
    "    for value in levelsMDD:\n",
    "        dictMDD[value] = dfMDD[dfMDD[numTrial] <= -value].shape[0] / numSim\n",
    "\n",
    "    return dfMDD, dictMDD   "
   ]
  },
  {
   "cell_type": "markdown",
   "metadata": {},
   "source": [
    "### Using above (p, b) pair and vary number of trials & ruin level"
   ]
  },
  {
   "cell_type": "code",
   "execution_count": null,
   "metadata": {},
   "outputs": [],
   "source": [
    "arrLevel = np.arange(0.05, 0.55, 0.05)  ## equity threshold level from 5% to 25%\n",
    "arrTrials = range(50, 300, 50)  ## Number of betting trials from 50 to 250\n",
    "\n",
    "dfRuin1 = pd.DataFrame(columns=arrTrials, index=arrLevel)\n",
    "\n",
    "for numTrials, level in product(arrTrials, arrLevel):\n",
    "    dfSim = getSim_binaryFixPct(initAmount1, f1, p1, b1, numTrials, numSim1)\n",
    "    dfRuin1.loc[level, numTrials] = getRuin(dfSim, initAmount1, numTrials, level)\n",
    "\n",
    "print(f'% of final equity below X% of initial for f = {f1}%: \\n\\n {dfRuin1}\\n')\n",
    "\n",
    "dfMDD1, dictMDD1 = getSimMDD(dfSim1)\n",
    "print(f'Percentage of betting series suffering \\n')\n",
    "\n",
    "for key, value in dictMDD1.items():\n",
    "    print(f'{round(100*key)}% MDD: {round(100*value, 2)}%')"
   ]
  },
  {
   "cell_type": "markdown",
   "metadata": {},
   "source": [
    "### Fix p, b and raise f to 20%"
   ]
  },
  {
   "cell_type": "code",
   "execution_count": null,
   "metadata": {},
   "outputs": [],
   "source": [
    "dfSim2, dictKPI2 = getSimKPI_discretePL(getSim_binaryFixPct, initAmount1, f3, p1, b1, numTrials1, numSim1)\n",
    "for key, value in dictKPI2.items():\n",
    "    print(f'{key}: {value}')\n",
    "\n",
    "dfRuin2 = pd.DataFrame(columns=arrTrials, index=arrLevel)\n",
    "\n",
    "for numTrials, level in product(arrTrials, arrLevel):\n",
    "    dfSim = getSim_binaryFixPct(initAmount1, f3, p1, b1, numTrials, numSim1)\n",
    "    dfRuin2.loc[level, numTrials] = getRuin(dfSim, initAmount1, numTrials, level)\n",
    "\n",
    "print(f'\\nPercentage of final equity below X% of initial for f = {f1}%: \\n\\n {dfRuin2}')\n",
    "\n",
    "dfMDD2, dictMDD2 = getSimMDD(dfSim2)\n",
    "\n",
    "print(f'\\nPercentage of betting series suffering \\n')\n",
    "\n",
    "for key, value in dictMDD2.items():\n",
    "    print(f'{round(100*key)}% MDD: {round(100*value, 2)}%')"
   ]
  },
  {
   "cell_type": "markdown",
   "metadata": {},
   "source": [
    "## Optimal f% / Kelly Formula"
   ]
  },
  {
   "cell_type": "markdown",
   "metadata": {},
   "source": [
    "### Expected geometric growth (= 1 + percentage-return)"
   ]
  },
  {
   "cell_type": "code",
   "execution_count": null,
   "metadata": {},
   "outputs": [],
   "source": [
    "def getExpGrowth(p=0.5, b=1.5, f=0.1, n=1):\n",
    "    \"\"\"\n",
    "    Obtain expected geometric return of repeated trials of a binary game.\n",
    "    p: winning rate\n",
    "    b: odds / reward-risk-ratio\n",
    "    f: fixed percent of each bet\n",
    "    n: number of trials\n",
    "    \"\"\"\n",
    "    logGrowth = p * np.log(1 + b * f) + (1 - p) * np.log(1 - f)\n",
    "    \n",
    "    return np.exp(n * logGrowth)\n",
    "\n",
    "def plotExpGrowth(p=0.5, b=1.5, n=1, fMin=0, fMax=0.5, step=0.01):\n",
    "    \"\"\"Plot expected geometric growth given fixed winning rate & odds, and identify optimal f%.\"\"\"\n",
    "    # Form pandas Series of expected return of varying f%\n",
    "    arrFpct = np.arange(fMin, fMax, step)\n",
    "    dictGrowth = {f: getExpGrowth(p, b, f, n) - 1 for f in arrFpct}\n",
    "    dfGrowth = pd.DataFrame(pd.Series(dictGrowth))\n",
    "    # Plot interactive diagram of f-percent curve\n",
    "    fig = px.line(x=dfGrowth.index, y=dfGrowth[0], labels={'x': 'f%', 'y': f'%return on {n} trials'})\n",
    "    fig.add_trace(go.Scatter(x=dfGrowth.index, y=np.repeat(0, len(arrFpct)), name='0%'))\n",
    "    # Identify optimal f%\n",
    "    bestF = dfGrowth[0].idxmax()\n",
    "    bestGrowth = dfGrowth[0].max()\n",
    "    fig.add_trace(go.Scatter(x=(bestF, ), y=(bestGrowth, ), line_color='green', name='Opt-f%', mode='markers+text', \n",
    "                             marker_size=10, text=f'{bestF, round(bestGrowth, 4)}', textposition='bottom center'))\n",
    "    \n",
    "    # Show diagram\n",
    "    fig.show()"
   ]
  },
  {
   "cell_type": "markdown",
   "metadata": {},
   "source": [
    "### Example 1 (adopt above example p1 = 0.4, b1 = 2.0)"
   ]
  },
  {
   "cell_type": "code",
   "execution_count": null,
   "metadata": {},
   "outputs": [],
   "source": [
    "plotExpGrowth(p1, b1, n=50)"
   ]
  },
  {
   "cell_type": "markdown",
   "metadata": {},
   "source": [
    "### Example 2 (Fix b = 2.0, improve p to 0.5, and reduce to 10 trials)"
   ]
  },
  {
   "cell_type": "code",
   "execution_count": null,
   "metadata": {},
   "outputs": [],
   "source": [
    "p4 = 0.5\n",
    "b4 = 2.0\n",
    "plotExpGrowth(p4, b4, n=10)"
   ]
  },
  {
   "cell_type": "markdown",
   "metadata": {},
   "source": [
    "### Example 3 (Fix profit factor in eg.1 [4 / 3] and raise p to 0.6)"
   ]
  },
  {
   "cell_type": "code",
   "execution_count": null,
   "metadata": {},
   "outputs": [],
   "source": [
    "b2 = getOdds(p2, profitfactor1)\n",
    "plotExpGrowth(p2, b2, n=50)"
   ]
  },
  {
   "cell_type": "markdown",
   "metadata": {},
   "source": [
    "### Kelly formula (for discrete binary game ONLY)"
   ]
  },
  {
   "cell_type": "code",
   "execution_count": null,
   "metadata": {},
   "outputs": [],
   "source": [
    "def getKellyF(p, b):\n",
    "    \"\"\"Obtain the optimal f% by Kelly formula.\"\"\"\n",
    "    return round(max((p * b - 1 + p) / b, 0), 4)"
   ]
  },
  {
   "cell_type": "markdown",
   "metadata": {},
   "source": [
    "### Kelly f% value for a bunch of (p, b) pair"
   ]
  },
  {
   "cell_type": "code",
   "execution_count": null,
   "metadata": {},
   "outputs": [],
   "source": [
    "arrP = np.arange(0.2, 0.85, 0.05)\n",
    "arrB = np.arange(0.5, 4.25, 0.25)\n",
    "\n",
    "dfKelly = pd.DataFrame()\n",
    "\n",
    "for p, b in product(arrP, arrB):\n",
    "    dfKelly.loc[b, f'{round(100*p, 2)}%'] = f'{round(100 * getKellyF(p, b), 2)}%'\n",
    "\n",
    "dfKelly"
   ]
  },
  {
   "cell_type": "markdown",
   "metadata": {},
   "source": [
    "### Profit factor corresponding to above (p, b) pairs"
   ]
  },
  {
   "cell_type": "code",
   "execution_count": null,
   "metadata": {},
   "outputs": [],
   "source": [
    "dfProfitfactor = pd.DataFrame()\n",
    "\n",
    "for p, b in product(arrP, arrB):\n",
    "    dfProfitfactor.loc[b, f'{round(100*p, 2)}%'] = float(f'{round(getProfitfactor(p, b), 2)}')\n",
    "\n",
    "dfProfitfactor"
   ]
  },
  {
   "cell_type": "markdown",
   "metadata": {},
   "source": [
    "### Expected growth using kelly-f%, half-kelly and 2x-kelly\n",
    "\n",
    "- Frequency inversely proportional to profit factor (trichotomy of win%, odds & frequency)"
   ]
  },
  {
   "cell_type": "code",
   "execution_count": null,
   "metadata": {},
   "outputs": [],
   "source": [
    "dfGrowth1 = pd.DataFrame()\n",
    "dfGrowth2 = pd.DataFrame()\n",
    "dfGrowth3 = pd.DataFrame()\n",
    "\n",
    "numTrade = 50\n",
    "\n",
    "for p, b in product(arrP, arrB):\n",
    "    optF = dfKelly.loc[b, f'{round(100*p, 2)}%']\n",
    "    optF = float(optF[:-1]) / 100\n",
    "    pf = dfProfitfactor.loc[b, f'{round(100*p, 2)}%']\n",
    "    n = int(numTrade / max(pf, 1))\n",
    "    dfGrowth1.loc[b, f'{round(100*p, 2)}%'] = round(initAmount1 * getExpGrowth(p, b, optF, n), 2)\n",
    "    dfGrowth2.loc[b, f'{round(100*p, 2)}%'] = round(initAmount1 * getExpGrowth(p, b, optF / 2, n), 2)\n",
    "    dfGrowth3.loc[b, f'{round(100*p, 2)}%'] = round(initAmount1 * getExpGrowth(p, b, min([optF * 2, 0.999]), n), 2)\n",
    "\n",
    "dfGrowth1"
   ]
  },
  {
   "cell_type": "code",
   "execution_count": null,
   "metadata": {},
   "outputs": [],
   "source": [
    "dfGrowth2"
   ]
  },
  {
   "cell_type": "code",
   "execution_count": null,
   "metadata": {},
   "outputs": [],
   "source": [
    "dfGrowth3"
   ]
  },
  {
   "cell_type": "markdown",
   "metadata": {},
   "source": [
    "## Diversification of almost-uncorrelated betting series and kelly-f%"
   ]
  },
  {
   "cell_type": "markdown",
   "metadata": {},
   "source": [
    "### Example: kelly-f% and half-kelly-f% for 5 distinct betting strategies with varying (p, b)"
   ]
  },
  {
   "cell_type": "code",
   "execution_count": null,
   "metadata": {},
   "outputs": [],
   "source": [
    "pList = [0.4, 0.55, 0.35, 0.6, 0.45]\n",
    "profitfactorList = [1.8, 1.65, 1.25, 2.0, 1.4]\n",
    "bList = [round(getOdds(p, pf), 4) for p, pf in zip(pList, profitfactorList)]\n",
    "print(f'Odds list: {bList}')\n",
    "\n",
    "fList_opt = [round(getKellyF(p, b) * 100, 4) for p, b in zip(pList, bList)]\n",
    "fList_half = [round(f / 2, 4) for f in fList_opt]\n",
    "print(f'Kelly-opt-f% list: {fList_opt}')\n",
    "print(f'Half-Kelly-f% list: {fList_half}')\n"
   ]
  },
  {
   "cell_type": "markdown",
   "metadata": {},
   "source": [
    "### Generate 400 simulations of 50-trial binary game equity dataframe with kelly f%"
   ]
  },
  {
   "cell_type": "code",
   "execution_count": null,
   "metadata": {},
   "outputs": [],
   "source": [
    "list_dfSim1 = []\n",
    "list_dfSim2 = []\n",
    "\n",
    "initAmount2 = 100\n",
    "numTrial2 = 50\n",
    "numSim2 = 400\n",
    "\n",
    "dfKPI1 = pd.DataFrame()\n",
    "dfKPI2 = pd.DataFrame()\n",
    "\n",
    "for p, b, f in zip(pList, bList, fList_opt):\n",
    "    dfSim1, dictKPI1 = getSimKPI_fixPctBet(initAmount2, f1, p, b, numTrial2, numSim2)\n",
    "    dfSim2, dictKPI2 = getSimKPI_fixPctBet(initAmount2, f1 / 2, p, b, numTrial2, numSim2)\n",
    "    list_dfSim1.append(dfSim1)\n",
    "    list_dfSim2.append(dfSim2)\n",
    "    dfKPI1 = dfKPI1.append(dictKPI1, ignore_index=True)\n",
    "    dfKPI2 = dfKPI2.append(dictKPI2, ignore_index=True)    \n",
    "    \n",
    "dfKPI1.rename(index={num: f'strat{num+1}' for num in range(5)}, inplace=True)\n",
    "dfKPI2.rename(index={num: f'strat{num+1}' for num in range(5)}, inplace=True)"
   ]
  },
  {
   "cell_type": "markdown",
   "metadata": {},
   "source": [
    "### Performance KPI for kelly-f% and MDD stat"
   ]
  },
  {
   "cell_type": "code",
   "execution_count": null,
   "metadata": {},
   "outputs": [],
   "source": [
    "levelsMDD0 = [0.1, 0.2, 0.5, 0.8]\n",
    "\n",
    "dfMDDStat1 = pd.DataFrame(columns=levelsMDD0)\n",
    "\n",
    "for df in list_dfSim1:\n",
    "    dfMDD, dictMDD = getSimMDD(df, levelsMDD0)\n",
    "    dfMDDStat1 = dfMDDStat1.append(dictMDD, ignore_index=True)\n",
    "    \n",
    "dfMDDStat1.rename(index={num: f'strat{num+1}' for num in range(5)}, inplace=True)\n",
    "\n",
    "print(f'% of betting series suffering X% MDD under opt-f%: \\n\\n{dfMDDStat1}')\n",
    "\n",
    "dfKPI1"
   ]
  },
  {
   "cell_type": "markdown",
   "metadata": {},
   "source": [
    "### Performance KPI for half-kelly-f%"
   ]
  },
  {
   "cell_type": "code",
   "execution_count": null,
   "metadata": {},
   "outputs": [],
   "source": [
    "dfMDDStat2 = pd.DataFrame(columns=levelsMDD0)\n",
    "\n",
    "for df in list_dfSim2:\n",
    "    dfMDD, dictMDD = getSimMDD(df, levelsMDD0)\n",
    "    dfMDDStat2 = dfMDDStat2.append(dictMDD, ignore_index=True)\n",
    "    \n",
    "dfMDDStat2.rename(index={num: f'strat{num+1}' for num in range(5)}, inplace=True)\n",
    "\n",
    "print(f'% of betting series suffering X% MDD under opt-f%: \\n\\n{dfMDDStat2}')\n",
    "\n",
    "dfKPI2"
   ]
  },
  {
   "cell_type": "markdown",
   "metadata": {},
   "source": [
    "### Use equal-weighted allocation to obtain 400 simulations of strategy portfolio"
   ]
  },
  {
   "cell_type": "code",
   "execution_count": null,
   "metadata": {},
   "outputs": [],
   "source": [
    "weightList = [0.2] * 5\n",
    "\n",
    "dfSim_All1 = sum([dfSim * weight for dfSim, weight in zip(list_dfSim1, weightList)]) \n",
    "dfSim_All2 = sum([dfSim * weight for dfSim, weight in zip(list_dfSim2, weightList)]) \n",
    "\n",
    "dfSim_All1.iloc[:10, -5:]"
   ]
  },
  {
   "cell_type": "markdown",
   "metadata": {},
   "source": [
    "### KPI for first portfolio (of 5 kelly-f% strats) & compare to cell[33]"
   ]
  },
  {
   "cell_type": "code",
   "execution_count": null,
   "metadata": {},
   "outputs": [],
   "source": [
    "# Performance KPIs of kelly-f% portfolio\n",
    "dictKPI_All1 = {}\n",
    "\n",
    "dictKPI_All1['win%'] = round(100 * dfSim_All1[dfSim_All1[numTrial2] >= initAmount2].shape[0] / numSim2, 2)\n",
    "dictKPI_All1['avgAmount'] = round(dfSim_All1[numTrial2].mean(), 2)\n",
    "dictKPI_All1['midAmount'] = round(dfSim_All1[numTrial2].median(), 2)\n",
    "dictKPI_All1['stdAmount'] = round(dfSim_All1[numTrial2].std(), 2)      \n",
    "\n",
    "# Performance KPIs of half-kelly-f% portfolio\n",
    "dictKPI_All2 = {}\n",
    "\n",
    "dictKPI_All2['win%'] = round(100 * dfSim_All2[dfSim_All2[numTrial2] >= initAmount2].shape[0] / numSim2, 2)\n",
    "dictKPI_All2['avgAmount'] = round(dfSim_All2[numTrial2].mean(), 2)\n",
    "dictKPI_All2['midAmount'] = round(dfSim_All2[numTrial2].median(), 2)\n",
    "dictKPI_All2['stdAmount'] = round(dfSim_All2[numTrial2].std(), 2)      \n",
    "\n",
    "# Combined\n",
    "dfKPI_All = pd.DataFrame(columns=['win%', 'avgAmount', 'midAmount', 'stdAmount'])\n",
    "dfKPI_All = dfKPI_All.append(dictKPI_All1, ignore_index=True)\n",
    "dfKPI_All = dfKPI_All.append(dictKPI_All2, ignore_index=True)\n",
    "dfKPI_All = dfKPI_All.transpose()\n",
    "dfKPI_All = dfKPI_All.rename(columns={0: 'opt-f%', 1: 'half-opt-f%'})\n",
    "\n",
    "# MDD stats\n",
    "dfMDD_All1, dictMDD_All1 = getSimMDD(dfSim_All1, levelsMDD0)\n",
    "dfMDD_All2, dictMDD_All2 = getSimMDD(dfSim_All2, levelsMDD0)\n",
    "\n",
    "for key, value in dictMDD_All1.items():\n",
    "    dfKPI_All.loc[f'%(Sim)_{round(key*100, 0)}%MDD', 'opt-f%'] = value\n",
    "    \n",
    "for key, value in dictMDD_All2.items():\n",
    "    dfKPI_All.loc[f'%(Sim)_{round(key*100, 0)}%MDD', 'half-opt-f%'] = value\n",
    "    \n",
    "dfKPI_All\n"
   ]
  },
  {
   "cell_type": "markdown",
   "metadata": {},
   "source": [
    "### Check correlation of random simulation (of same index number) of each strategy"
   ]
  },
  {
   "cell_type": "code",
   "execution_count": null,
   "metadata": {},
   "outputs": [],
   "source": [
    "numStrat = np.random.randint(1, numSim2 + 1)\n",
    "\n",
    "dfStrat = pd.DataFrame()\n",
    "numIndex = 1\n",
    "\n",
    "for df in list_dfSim1:\n",
    "    dfStrat = pd.concat([dfStrat, df.loc[[f's{numStrat}']]], axis=0)\n",
    "    dfStrat.rename(index={f's{numStrat}': f'strat{numIndex}'}, inplace=True)\n",
    "    numIndex += 1\n",
    "    \n",
    "dfStrat = dfStrat.transpose()\n",
    "\n",
    "for col, b, f in zip(dfStrat.columns, bList, fList_opt):\n",
    "    dfStrat[col] = np.round(dfStrat[col] / dfStrat[col].shift(1), 4)\n",
    "\n",
    "dfStrat.tail(10)"
   ]
  },
  {
   "cell_type": "markdown",
   "metadata": {},
   "source": [
    "### Check correlation of returns\n",
    "\n",
    "- For degree of freedom around 50, critical value of dependence (at sig level 0.05) is +/- 0.231\n",
    "- IF corr coefficient lies in range (-0.231, 0.231), would accept that two series are independent"
   ]
  },
  {
   "cell_type": "code",
   "execution_count": null,
   "metadata": {},
   "outputs": [],
   "source": [
    "dfStrat.corr()"
   ]
  }
 ],
 "metadata": {
  "kernelspec": {
   "display_name": "Python 3",
   "language": "python",
   "name": "python3"
  },
  "language_info": {
   "codemirror_mode": {
    "name": "ipython",
    "version": 3
   },
   "file_extension": ".py",
   "mimetype": "text/x-python",
   "name": "python",
   "nbconvert_exporter": "python",
   "pygments_lexer": "ipython3",
   "version": "3.8.5"
  }
 },
 "nbformat": 4,
 "nbformat_minor": 4
}
